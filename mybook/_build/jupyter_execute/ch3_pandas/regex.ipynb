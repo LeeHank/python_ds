{
 "cells": [
  {
   "cell_type": "markdown",
   "metadata": {},
   "source": [
    "# Regular Expression"
   ]
  },
  {
   "cell_type": "markdown",
   "metadata": {},
   "source": [
    "* regular expression 使用場景：\n",
    "  * text matching: e.g. 大量文本中，matching 出合法的 email 地址\n",
    "  * verifying input: e.g. 檢查密碼是否包含大小寫字母與特殊符號\n",
    "  * search and replace"
   ]
  },
  {
   "cell_type": "markdown",
   "metadata": {},
   "source": [
    "## regex 101"
   ]
  },
  {
   "cell_type": "markdown",
   "metadata": {},
   "source": [
    "* `abc`: `abc`def\n",
    "* `123`: 34`123`\n",
    "* `\\d`, `[0-9]`, `[\"digit:]`: any digits -> `8`a997b\n",
    "* `\\D`: any non-digit -> 8`a`997b\n",
    "* `\\w`, `[A-Za-z0-9_]`: any alpha, numeric\n",
    "* `.`: any character -> `a`pple, `p`ig\n",
    "* `[abc]`: only a or b or c -> `[cmf]an` => `can`, `man`, `fan`\n",
    "* `[^abc]`: not a, b, nor c -> `[^b]og` => `hog`, `dog`, bog\n",
    "* `{m}`: m repetitions -> `\\d{3}` 連續3個數字; `a{3}` 連續 3 個 a\n",
    "* `{m, n}`: 出現 m ~ n 次 -> `\\d{3,5}` 連續 3 or 4 or 5 個數字\n",
    "* `*`: 0 or more repetitions -> `\\a*` 出現 0次以上的 a -> \n",
    "* `?`: 0 or 1 repetition -> `colou?r` -> `color`, `colour`\n",
    "* `\\s`: 空格 或 tab: `\\s+` 一個或多個空白 -> ` abc`, `  abc`\n",
    "* `^`: start with\n",
    "* `$`: end with\n",
    "* `(...)` capture group: `(^file.*)\\.pdf$` 表示我要找 file 開頭，任意字0 or 多個，點pdf結尾。那除了會 match 到 `file_record_transcript.pdf` 外，他還抓到 `file_record_transcript` 這個 group\n",
    "* `(a(bc))` capture sub-group: e.g. `([:alpha:]{3}\\s(\\d{4}))` 就是要抓 任意字母3個，空白1個，數字4個，所以可以抓到 `Jan 1987`，然後加上有外和內括號，所以capture到整個group `Jan 1987` 和 sub-group `1987`  \n",
    "* `(abc|def)` match abc or def"
   ]
  },
  {
   "cell_type": "markdown",
   "metadata": {},
   "source": [
    "## python 的 `re` module"
   ]
  },
  {
   "cell_type": "code",
   "execution_count": 1,
   "metadata": {},
   "outputs": [],
   "source": [
    "import re"
   ]
  },
  {
   "cell_type": "markdown",
   "metadata": {},
   "source": [
    "### re.search"
   ]
  },
  {
   "cell_type": "markdown",
   "metadata": {},
   "source": [
    "* 查詢結果，會回傳一個物件。e.g. `res = re.search(\"ap\", \"apple)`\n",
    "* 它的功能，像是 R 的 \n",
    "  * `str_detect` (有沒有 match 到): 這邊用 `res == None` 來檢查，如果是 None，表示沒 match 到。\n",
    "  * `str_extract` (抓出 match 到的字串): 可用 `res.span()` 得知 match 到的部分，是在原自串的第幾個位置到第幾個位置; `res.group()` 可以抓出 match 到的字。"
   ]
  },
  {
   "cell_type": "code",
   "execution_count": 42,
   "metadata": {},
   "outputs": [
    {
     "data": {
      "text/plain": [
       "<re.Match object; span=(3, 6), match='123'>"
      ]
     },
     "execution_count": 42,
     "metadata": {},
     "output_type": "execute_result"
    }
   ],
   "source": [
    "s = \"foo123bar\"\n",
    "result = re.search(\"123\", s)\n",
    "result"
   ]
  },
  {
   "cell_type": "markdown",
   "metadata": {},
   "source": [
    "* 可以看到，回傳一個物件，而此物件就有很多 method 和 attribute 可以用"
   ]
  },
  {
   "cell_type": "code",
   "execution_count": 43,
   "metadata": {},
   "outputs": [
    {
     "name": "stdout",
     "output_type": "stream",
     "text": [
      "(3, 6)\n",
      "3\n",
      "6\n",
      "foo123bar\n"
     ]
    }
   ],
   "source": [
    "print(result.span()) # match 的位置是原字串的哪裡到哪裡\n",
    "print(result.start()) # match 的位置的 start 是哪裡\n",
    "print(result.end()) # match 的位置的 end 是哪裡\n",
    "print(result.string) # 要被 match 的字串是哪個"
   ]
  },
  {
   "cell_type": "code",
   "execution_count": 44,
   "metadata": {},
   "outputs": [],
   "source": [
    "result = re.search(\"1234\", s) # 如果 match 不到，會回傳 None\n",
    "result"
   ]
  },
  {
   "cell_type": "code",
   "execution_count": 45,
   "metadata": {},
   "outputs": [
    {
     "data": {
      "text/plain": [
       "True"
      ]
     },
     "execution_count": 45,
     "metadata": {},
     "output_type": "execute_result"
    }
   ],
   "source": [
    "result == None"
   ]
  },
  {
   "cell_type": "code",
   "execution_count": 46,
   "metadata": {},
   "outputs": [
    {
     "data": {
      "text/plain": [
       "<re.Match object; span=(0, 1), match='f'>"
      ]
     },
     "execution_count": 46,
     "metadata": {},
     "output_type": "execute_result"
    }
   ],
   "source": [
    "s = \"foo123oof\"\n",
    "re.search(\"f\", s)"
   ]
  },
  {
   "cell_type": "code",
   "execution_count": 47,
   "metadata": {},
   "outputs": [
    {
     "data": {
      "text/plain": [
       "<re.Match object; span=(0, 3), match='foo'>"
      ]
     },
     "execution_count": 47,
     "metadata": {},
     "output_type": "execute_result"
    }
   ],
   "source": [
    "s = \"foo123\"\n",
    "re.search(\"fo*\", s) # o* 表示 o 可以重複 0 ~ 多次"
   ]
  },
  {
   "cell_type": "code",
   "execution_count": 48,
   "metadata": {},
   "outputs": [
    {
     "data": {
      "text/plain": [
       "<re.Match object; span=(0, 3), match='foo'>"
      ]
     },
     "execution_count": 48,
     "metadata": {},
     "output_type": "execute_result"
    }
   ],
   "source": [
    "s = \"foo123\"\n",
    "re.search(\"fo+\", s) # o+ 表後面 1 個或多個o"
   ]
  },
  {
   "cell_type": "code",
   "execution_count": 49,
   "metadata": {},
   "outputs": [
    {
     "data": {
      "text/plain": [
       "<re.Match object; span=(1, 3), match='oo'>"
      ]
     },
     "execution_count": 49,
     "metadata": {},
     "output_type": "execute_result"
    }
   ],
   "source": [
    "s = \"foo\"\n",
    "re.search(\"o{1,2}\", s)"
   ]
  },
  {
   "cell_type": "code",
   "execution_count": 50,
   "metadata": {},
   "outputs": [
    {
     "name": "stdout",
     "output_type": "stream",
     "text": [
      "<re.Match object; span=(3, 6), match='123'>\n",
      "<re.Match object; span=(0, 3), match='foo'>\n"
     ]
    }
   ],
   "source": [
    "s = \"foo123bar\"\n",
    "print(re.search(\"\\d+\",s))\n",
    "print(re.search(\"\\D+\", s))"
   ]
  },
  {
   "cell_type": "code",
   "execution_count": 51,
   "metadata": {},
   "outputs": [
    {
     "data": {
      "text/plain": [
       "<re.Match object; span=(0, 8), match='one, two'>"
      ]
     },
     "execution_count": 51,
     "metadata": {},
     "output_type": "execute_result"
    }
   ],
   "source": [
    "s = \"one, two, three\"\n",
    "result = re.search(\"(\\w+), (\\w+)\", s)\n",
    "result"
   ]
  },
  {
   "cell_type": "code",
   "execution_count": 52,
   "metadata": {},
   "outputs": [
    {
     "name": "stdout",
     "output_type": "stream",
     "text": [
      "(0, 8)\n",
      "('one', 'two')\n",
      "one, two\n",
      "one\n",
      "two\n"
     ]
    }
   ],
   "source": [
    "print(result.span())\n",
    "print(result.groups())\n",
    "print(result.group(0))\n",
    "print(result.group(1))\n",
    "print(result.group(2))"
   ]
  },
  {
   "cell_type": "code",
   "execution_count": 53,
   "metadata": {},
   "outputs": [
    {
     "name": "stdout",
     "output_type": "stream",
     "text": [
      "<re.Match object; span=(0, 8), match='Sep 2010'>\n",
      "{'month': 'Sep', 'year': '2010'}\n",
      "Sep\n",
      "2010\n"
     ]
    }
   ],
   "source": [
    "s = \"Sep 2010\"\n",
    "result = re.search(\"(?P<month>\\w+)\\s(?P<year>\\d+)\", s) # 幫 group 命名，用 `?P<name><regex>`\n",
    "print(result)\n",
    "print(result.groupdict())\n",
    "print(result.groupdict()[\"month\"])\n",
    "print(result.groupdict()[\"year\"])"
   ]
  },
  {
   "cell_type": "markdown",
   "metadata": {},
   "source": [
    "### re.match"
   ]
  },
  {
   "cell_type": "markdown",
   "metadata": {},
   "source": [
    "* match 和 search 的差別是，他是從第一個字母就開始比對\n",
    "* 所以，下面這個例子，他反而 match 不到"
   ]
  },
  {
   "cell_type": "code",
   "execution_count": 40,
   "metadata": {},
   "outputs": [
    {
     "data": {
      "text/plain": [
       "True"
      ]
     },
     "execution_count": 40,
     "metadata": {},
     "output_type": "execute_result"
    }
   ],
   "source": [
    "s = \"foo123bar\"\n",
    "res = re.match(\"\\d+\", s)\n",
    "res == None"
   ]
  },
  {
   "cell_type": "markdown",
   "metadata": {},
   "source": [
    "* `match` 主要用在輸入合法性檢查\n",
    "* 例如輸入的自串，是否為 email 形式"
   ]
  },
  {
   "cell_type": "markdown",
   "metadata": {},
   "source": [
    "### re.fullmatch()"
   ]
  },
  {
   "cell_type": "markdown",
   "metadata": {},
   "source": [
    "* fullmatch 就是完全 match\n",
    "* 例如，要搜尋全都是數字的字串\n",
    "  * 用 `re.search` 會寫成 `re.search(r\"^\\d+$\")` ，表示數字開頭，1個數字以上都納入，數字結尾。\n",
    "  * 用 `re.fullmatch` 就只要寫成 `re.fullmatch(r\"\\d+\")` 就 ok 了\n",
    "* 看例子："
   ]
  },
  {
   "cell_type": "code",
   "execution_count": 57,
   "metadata": {},
   "outputs": [
    {
     "name": "stdout",
     "output_type": "stream",
     "text": [
      "None\n",
      "None\n",
      "<re.Match object; span=(0, 3), match='123'>\n",
      "None\n",
      "None\n",
      "<re.Match object; span=(0, 3), match='123'>\n"
     ]
    }
   ],
   "source": [
    "print(re.fullmatch(r\"\\d+\", \"123foo\"))\n",
    "print(re.fullmatch(r\"\\d+\", \"foo123\"))\n",
    "print(re.fullmatch(r\"\\d+\", \"123\"))\n",
    "\n",
    "print(re.search(r\"^\\d+$\", \"123foo\"))\n",
    "print(re.search(r\"^\\d+$\", \"foo123\"))\n",
    "print(re.search(r\"^\\d+$\", \"123\"))"
   ]
  },
  {
   "cell_type": "markdown",
   "metadata": {},
   "source": [
    "### `re.findall()` returns a list of all matches of a regex in a string "
   ]
  },
  {
   "cell_type": "code",
   "execution_count": 58,
   "metadata": {},
   "outputs": [
    {
     "name": "stdout",
     "output_type": "stream",
     "text": [
      "<re.Match object; span=(0, 3), match='123'>\n",
      "<re.Match object; span=(0, 3), match='123'>\n",
      "None\n",
      "['123', '456']\n"
     ]
    }
   ],
   "source": [
    "s = \"123foo456bar\"\n",
    "print(re.match(\"\\d+\", s))\n",
    "print(re.search(\"\\d+\", s))\n",
    "print(re.fullmatch(\"\\d+\", s))\n",
    "print(re.findall(\"\\d+\", s))"
   ]
  },
  {
   "cell_type": "markdown",
   "metadata": {},
   "source": [
    "* 可以清楚看到:\n",
    "  * 用之前學的 search, match，都是找到第一組符合的就停止\n",
    "  * fullmatch要全都符合才算，所以找不到。\n",
    "  * 而 findall 是會繼續往下找，並回給你 list"
   ]
  },
  {
   "cell_type": "markdown",
   "metadata": {},
   "source": [
    "### re.findall + group"
   ]
  },
  {
   "cell_type": "markdown",
   "metadata": {},
   "source": [
    "* 這邊澆了這種用法，可以學一下："
   ]
  },
  {
   "cell_type": "code",
   "execution_count": 59,
   "metadata": {},
   "outputs": [
    {
     "data": {
      "text/plain": [
       "[('tom', 'hanks'), ('aaron', 'tsai'), ('ian', 'chen')]"
      ]
     },
     "execution_count": 59,
     "metadata": {},
     "output_type": "execute_result"
    }
   ],
   "source": [
    "s = \"tom,hanks,aaron,tsai,ian,chen\"\n",
    "re.findall(r\"(\\w+),(\\w+)\", s)"
   ]
  },
  {
   "cell_type": "markdown",
   "metadata": {},
   "source": [
    "* 可以看到，我們用 findall，來讓搜尋可以一路查到底\n",
    "* 然後 regex 用 `\\w+`，表示1個以上的 alphanumeric 都可。中間用逗點隔開，所以我想找 `alphanumeric, alphanumeric` 這種 pattern\n",
    "* 最後，我加了兩個括號，所以，他會幫我抓出兩個 group"
   ]
  },
  {
   "cell_type": "markdown",
   "metadata": {},
   "source": [
    "## python 的逃脫字元 與 raw string"
   ]
  },
  {
   "cell_type": "markdown",
   "metadata": {},
   "source": [
    "* 直接講結論，在搜尋時，用 `r\"\"` 來寫，就可以維持和 regex 一致的寫法\n",
    "* 例如下例："
   ]
  },
  {
   "cell_type": "code",
   "execution_count": 62,
   "metadata": {},
   "outputs": [
    {
     "name": "stdout",
     "output_type": "stream",
     "text": [
      "<re.Match object; span=(0, 7), match='abc\\\\def'>\n",
      "('abc', 'def')\n"
     ]
    }
   ],
   "source": [
    "s = \"abc\\def\"\n",
    "result = re.search(r\"(\\w+)\\\\(\\w+)\", s)\n",
    "print(result)\n",
    "print(result.groups())"
   ]
  },
  {
   "cell_type": "markdown",
   "metadata": {},
   "source": [
    "* 可以看到，regex，要搜尋特殊字元 `\\` 時，前面要再加上逃脫字元 `\\`，所以會寫成 `\\\\`\n",
    "* 那我們在搜尋時，在字串前面加上 `r` ，是指 raw index，就可以讓我用 regex 的邏輯去做事\n",
    "* 如果沒加 `r`，就會出現 error"
   ]
  },
  {
   "cell_type": "code",
   "execution_count": 65,
   "metadata": {},
   "outputs": [
    {
     "ename": "error",
     "evalue": "unbalanced parenthesis at position 10",
     "output_type": "error",
     "traceback": [
      "\u001b[0;31m---------------------------------------------------------------------------\u001b[0m",
      "\u001b[0;31merror\u001b[0m                                     Traceback (most recent call last)",
      "\u001b[1;32m/Volumes/GoogleDrive/我的雲端硬碟/0. codepool_python/python_ds/mybook/ch3_pandas/regex.ipynb Cell 40'\u001b[0m in \u001b[0;36m<module>\u001b[0;34m\u001b[0m\n\u001b[1;32m      <a href='vscode-notebook-cell:/Volumes/GoogleDrive/%E6%88%91%E7%9A%84%E9%9B%B2%E7%AB%AF%E7%A1%AC%E7%A2%9F/0.%20codepool_python/python_ds/mybook/ch3_pandas/regex.ipynb#ch0000063?line=0'>1</a>\u001b[0m s \u001b[39m=\u001b[39m \u001b[39m\"\u001b[39m\u001b[39mabc\u001b[39m\u001b[39m\\\u001b[39m\u001b[39mdef\u001b[39m\u001b[39m\"\u001b[39m\n\u001b[0;32m----> <a href='vscode-notebook-cell:/Volumes/GoogleDrive/%E6%88%91%E7%9A%84%E9%9B%B2%E7%AB%AF%E7%A1%AC%E7%A2%9F/0.%20codepool_python/python_ds/mybook/ch3_pandas/regex.ipynb#ch0000063?line=1'>2</a>\u001b[0m result \u001b[39m=\u001b[39m re\u001b[39m.\u001b[39;49msearch(\u001b[39m\"\u001b[39;49m\u001b[39m(\u001b[39;49m\u001b[39m\\\u001b[39;49m\u001b[39mw+)\u001b[39;49m\u001b[39m\\\\\u001b[39;49;00m\u001b[39m(\u001b[39;49m\u001b[39m\\\u001b[39;49m\u001b[39mw+)\u001b[39;49m\u001b[39m\"\u001b[39;49m, s)\n",
      "File \u001b[0;32m~/.pyenv/versions/3.8.0/lib/python3.8/re.py:199\u001b[0m, in \u001b[0;36msearch\u001b[0;34m(pattern, string, flags)\u001b[0m\n\u001b[1;32m    <a href='file:///Users/hanklee/.pyenv/versions/3.8.0/lib/python3.8/re.py?line=195'>196</a>\u001b[0m \u001b[39mdef\u001b[39;00m \u001b[39msearch\u001b[39m(pattern, string, flags\u001b[39m=\u001b[39m\u001b[39m0\u001b[39m):\n\u001b[1;32m    <a href='file:///Users/hanklee/.pyenv/versions/3.8.0/lib/python3.8/re.py?line=196'>197</a>\u001b[0m     \u001b[39m\"\"\"Scan through string looking for a match to the pattern, returning\u001b[39;00m\n\u001b[1;32m    <a href='file:///Users/hanklee/.pyenv/versions/3.8.0/lib/python3.8/re.py?line=197'>198</a>\u001b[0m \u001b[39m    a Match object, or None if no match was found.\"\"\"\u001b[39;00m\n\u001b[0;32m--> <a href='file:///Users/hanklee/.pyenv/versions/3.8.0/lib/python3.8/re.py?line=198'>199</a>\u001b[0m     \u001b[39mreturn\u001b[39;00m _compile(pattern, flags)\u001b[39m.\u001b[39msearch(string)\n",
      "File \u001b[0;32m~/.pyenv/versions/3.8.0/lib/python3.8/re.py:302\u001b[0m, in \u001b[0;36m_compile\u001b[0;34m(pattern, flags)\u001b[0m\n\u001b[1;32m    <a href='file:///Users/hanklee/.pyenv/versions/3.8.0/lib/python3.8/re.py?line=299'>300</a>\u001b[0m \u001b[39mif\u001b[39;00m \u001b[39mnot\u001b[39;00m sre_compile\u001b[39m.\u001b[39misstring(pattern):\n\u001b[1;32m    <a href='file:///Users/hanklee/.pyenv/versions/3.8.0/lib/python3.8/re.py?line=300'>301</a>\u001b[0m     \u001b[39mraise\u001b[39;00m \u001b[39mTypeError\u001b[39;00m(\u001b[39m\"\u001b[39m\u001b[39mfirst argument must be string or compiled pattern\u001b[39m\u001b[39m\"\u001b[39m)\n\u001b[0;32m--> <a href='file:///Users/hanklee/.pyenv/versions/3.8.0/lib/python3.8/re.py?line=301'>302</a>\u001b[0m p \u001b[39m=\u001b[39m sre_compile\u001b[39m.\u001b[39;49mcompile(pattern, flags)\n\u001b[1;32m    <a href='file:///Users/hanklee/.pyenv/versions/3.8.0/lib/python3.8/re.py?line=302'>303</a>\u001b[0m \u001b[39mif\u001b[39;00m \u001b[39mnot\u001b[39;00m (flags \u001b[39m&\u001b[39m DEBUG):\n\u001b[1;32m    <a href='file:///Users/hanklee/.pyenv/versions/3.8.0/lib/python3.8/re.py?line=303'>304</a>\u001b[0m     \u001b[39mif\u001b[39;00m \u001b[39mlen\u001b[39m(_cache) \u001b[39m>\u001b[39m\u001b[39m=\u001b[39m _MAXCACHE:\n\u001b[1;32m    <a href='file:///Users/hanklee/.pyenv/versions/3.8.0/lib/python3.8/re.py?line=304'>305</a>\u001b[0m         \u001b[39m# Drop the oldest item\u001b[39;00m\n",
      "File \u001b[0;32m~/.pyenv/versions/3.8.0/lib/python3.8/sre_compile.py:764\u001b[0m, in \u001b[0;36mcompile\u001b[0;34m(p, flags)\u001b[0m\n\u001b[1;32m    <a href='file:///Users/hanklee/.pyenv/versions/3.8.0/lib/python3.8/sre_compile.py?line=761'>762</a>\u001b[0m \u001b[39mif\u001b[39;00m isstring(p):\n\u001b[1;32m    <a href='file:///Users/hanklee/.pyenv/versions/3.8.0/lib/python3.8/sre_compile.py?line=762'>763</a>\u001b[0m     pattern \u001b[39m=\u001b[39m p\n\u001b[0;32m--> <a href='file:///Users/hanklee/.pyenv/versions/3.8.0/lib/python3.8/sre_compile.py?line=763'>764</a>\u001b[0m     p \u001b[39m=\u001b[39m sre_parse\u001b[39m.\u001b[39;49mparse(p, flags)\n\u001b[1;32m    <a href='file:///Users/hanklee/.pyenv/versions/3.8.0/lib/python3.8/sre_compile.py?line=764'>765</a>\u001b[0m \u001b[39melse\u001b[39;00m:\n\u001b[1;32m    <a href='file:///Users/hanklee/.pyenv/versions/3.8.0/lib/python3.8/sre_compile.py?line=765'>766</a>\u001b[0m     pattern \u001b[39m=\u001b[39m \u001b[39mNone\u001b[39;00m\n",
      "File \u001b[0;32m~/.pyenv/versions/3.8.0/lib/python3.8/sre_parse.py:962\u001b[0m, in \u001b[0;36mparse\u001b[0;34m(str, flags, state)\u001b[0m\n\u001b[1;32m    <a href='file:///Users/hanklee/.pyenv/versions/3.8.0/lib/python3.8/sre_parse.py?line=959'>960</a>\u001b[0m \u001b[39mif\u001b[39;00m source\u001b[39m.\u001b[39mnext \u001b[39mis\u001b[39;00m \u001b[39mnot\u001b[39;00m \u001b[39mNone\u001b[39;00m:\n\u001b[1;32m    <a href='file:///Users/hanklee/.pyenv/versions/3.8.0/lib/python3.8/sre_parse.py?line=960'>961</a>\u001b[0m     \u001b[39massert\u001b[39;00m source\u001b[39m.\u001b[39mnext \u001b[39m==\u001b[39m \u001b[39m\"\u001b[39m\u001b[39m)\u001b[39m\u001b[39m\"\u001b[39m\n\u001b[0;32m--> <a href='file:///Users/hanklee/.pyenv/versions/3.8.0/lib/python3.8/sre_parse.py?line=961'>962</a>\u001b[0m     \u001b[39mraise\u001b[39;00m source\u001b[39m.\u001b[39merror(\u001b[39m\"\u001b[39m\u001b[39munbalanced parenthesis\u001b[39m\u001b[39m\"\u001b[39m)\n\u001b[1;32m    <a href='file:///Users/hanklee/.pyenv/versions/3.8.0/lib/python3.8/sre_parse.py?line=963'>964</a>\u001b[0m \u001b[39mif\u001b[39;00m flags \u001b[39m&\u001b[39m SRE_FLAG_DEBUG:\n\u001b[1;32m    <a href='file:///Users/hanklee/.pyenv/versions/3.8.0/lib/python3.8/sre_parse.py?line=964'>965</a>\u001b[0m     p\u001b[39m.\u001b[39mdump()\n",
      "\u001b[0;31merror\u001b[0m: unbalanced parenthesis at position 10"
     ]
    }
   ],
   "source": [
    "s = \"abc\\def\"\n",
    "result = re.search(\"(\\w+)\\\\(\\w+)\", s)"
   ]
  },
  {
   "cell_type": "markdown",
   "metadata": {},
   "source": [
    "* 因為，在 python 中，還要再加上兩個 `\\` 來當逃脫字元 (怪...)\n",
    "* 所以，要寫成這樣才會對："
   ]
  },
  {
   "cell_type": "code",
   "execution_count": 67,
   "metadata": {},
   "outputs": [
    {
     "name": "stdout",
     "output_type": "stream",
     "text": [
      "<re.Match object; span=(0, 7), match='abc\\\\def'>\n",
      "('abc', 'def')\n"
     ]
    }
   ],
   "source": [
    "s = \"abc\\def\"\n",
    "result = re.search(\"(\\w+)\\\\\\\\(\\w+)\", s)\n",
    "print(result)\n",
    "print(result.groups())"
   ]
  },
  {
   "cell_type": "markdown",
   "metadata": {},
   "source": [
    "* 所以，只要記得，寫 regex 時，都在最前面加上 `r\"\"`，就可以用與 regex 一致的寫法了"
   ]
  },
  {
   "cell_type": "markdown",
   "metadata": {},
   "source": [
    "## 查找和替換"
   ]
  },
  {
   "cell_type": "markdown",
   "metadata": {},
   "source": [
    "* 之前在學 string 時，有學過 `.replace()` 這個 method\n",
    "  * 例如： `s = \"hank_lee\"`, `s.replace(\"_\", \"~\")`  \n",
    "* 但這個 replace，只能做到完全 match，如果，我想用 regex 來做替換，那就要學這章教的 (補充： R 的話都統一在一起了，str_replace 時，後面可以直接指定要用 regex 來找)"
   ]
  },
  {
   "cell_type": "markdown",
   "metadata": {},
   "source": [
    "### `re.sub()` 找到 match 的，幫你替換完，再回傳"
   ]
  },
  {
   "cell_type": "code",
   "execution_count": 69,
   "metadata": {},
   "outputs": [
    {
     "data": {
      "text/plain": [
       "'foo.#.bar.#,baz'"
      ]
     },
     "execution_count": 69,
     "metadata": {},
     "output_type": "execute_result"
    }
   ],
   "source": [
    "s = \"foo.123.bar.789,baz\"\n",
    "re.sub(r\"\\d+\", \"#\", s)"
   ]
  },
  {
   "cell_type": "code",
   "execution_count": 70,
   "metadata": {},
   "outputs": [
    {
     "data": {
      "text/plain": [
       "'*.123.*.789,*'"
      ]
     },
     "execution_count": 70,
     "metadata": {},
     "output_type": "execute_result"
    }
   ],
   "source": [
    "re.sub(r\"[a-z]+\", \"*\", s)"
   ]
  },
  {
   "cell_type": "markdown",
   "metadata": {},
   "source": [
    "### re.subn() 做完 re.sub 的侍候，再回傳給你它取代了幾筆"
   ]
  },
  {
   "cell_type": "code",
   "execution_count": 71,
   "metadata": {},
   "outputs": [
    {
     "data": {
      "text/plain": [
       "('*.123.*.789,*', 3)"
      ]
     },
     "execution_count": 71,
     "metadata": {},
     "output_type": "execute_result"
    }
   ],
   "source": [
    "re.subn(r'[a-z]+', '*', s)"
   ]
  },
  {
   "cell_type": "markdown",
   "metadata": {},
   "source": [
    "* 可以看到，他最後回傳，取代了 3 筆"
   ]
  },
  {
   "cell_type": "markdown",
   "metadata": {},
   "source": [
    "### 加上 group"
   ]
  },
  {
   "cell_type": "markdown",
   "metadata": {},
   "source": [
    "* 我如果想把 `123abc456` 這個字串，轉成 `456abc123` 的話，要怎麼做？  \n",
    "  * 先用 group，抓出第一組123, 第二組456\n",
    "  * 然後 replace 成：`第二組abc第一組`，就搞定了："
   ]
  },
  {
   "cell_type": "code",
   "execution_count": 73,
   "metadata": {},
   "outputs": [
    {
     "data": {
      "text/plain": [
       "('123', '456')"
      ]
     },
     "execution_count": 73,
     "metadata": {},
     "output_type": "execute_result"
    }
   ],
   "source": [
    "s = \"123abc456\"\n",
    "result = re.search(r\"(\\d+)[a-z]+(\\d+)\", s)\n",
    "result.groups()"
   ]
  },
  {
   "cell_type": "code",
   "execution_count": 74,
   "metadata": {},
   "outputs": [
    {
     "data": {
      "text/plain": [
       "'456abc123'"
      ]
     },
     "execution_count": 74,
     "metadata": {},
     "output_type": "execute_result"
    }
   ],
   "source": [
    "re.sub(r\"(\\d+)[a-z]+(\\d+)\", r\"\\2abc\\1\", s)"
   ]
  },
  {
   "cell_type": "markdown",
   "metadata": {},
   "source": [
    "* 上面的 `\\2` 就是指第二個group, `\\1` 指第一個 group"
   ]
  },
  {
   "cell_type": "markdown",
   "metadata": {},
   "source": [
    "### 加上 function"
   ]
  },
  {
   "cell_type": "markdown",
   "metadata": {},
   "source": [
    "* 如果，我想把 `foo.10.bar.20.baz.30` 改成 `FOO.100.BAR.200.BAZ.300`\n",
    "* 也就是，我想把英文都改大寫，數字都乘以10。那，怎麼做？\n",
    "* 這時就可以用 function"
   ]
  },
  {
   "cell_type": "code",
   "execution_count": 77,
   "metadata": {},
   "outputs": [
    {
     "data": {
      "text/plain": [
       "'FOO.100.BAR.200.BAZ.300'"
      ]
     },
     "execution_count": 77,
     "metadata": {},
     "output_type": "execute_result"
    }
   ],
   "source": [
    "def foo(match_object):\n",
    "    s = match_object.group(0)\n",
    "    if s.isdigit():\n",
    "        return str(int(s)*10)\n",
    "    else:\n",
    "        return s.upper()\n",
    "\n",
    "s = \"foo.10.bar.20.baz.30\"\n",
    "re.sub(r\"\\w+\", foo, s)"
   ]
  },
  {
   "cell_type": "markdown",
   "metadata": {},
   "source": [
    "## 字串分割"
   ]
  },
  {
   "cell_type": "markdown",
   "metadata": {},
   "source": [
    "* 基本的做法："
   ]
  },
  {
   "cell_type": "code",
   "execution_count": 3,
   "metadata": {},
   "outputs": [
    {
     "data": {
      "text/plain": [
       "['foo', 'bar', 'baz', ' qux', 'quux', '    corge']"
      ]
     },
     "execution_count": 3,
     "metadata": {},
     "output_type": "execute_result"
    }
   ],
   "source": [
    "s = \"foo, bar, baz,  qux, quux,     corge\"\n",
    "s.split(\", \")"
   ]
  },
  {
   "cell_type": "markdown",
   "metadata": {},
   "source": [
    "* 可以看到，因為每個字在逗點後的空格數不同，所以導致切完後，每個字前面還會有不等長的空格\n",
    "* 這就要再做一次處理："
   ]
  },
  {
   "cell_type": "code",
   "execution_count": 4,
   "metadata": {},
   "outputs": [
    {
     "data": {
      "text/plain": [
       "['foo', 'bar', 'baz', 'qux', 'quux', 'corge']"
      ]
     },
     "execution_count": 4,
     "metadata": {},
     "output_type": "execute_result"
    }
   ],
   "source": [
    "\n",
    "[a.strip() for a in s.split(\",\")]"
   ]
  },
  {
   "cell_type": "markdown",
   "metadata": {},
   "source": [
    "* 那如果用 regex，就不用這麼麻煩了："
   ]
  },
  {
   "cell_type": "code",
   "execution_count": 6,
   "metadata": {},
   "outputs": [
    {
     "data": {
      "text/plain": [
       "['foo', 'bar', 'baz', 'qux', 'quux', 'corge']"
      ]
     },
     "execution_count": 6,
     "metadata": {},
     "output_type": "execute_result"
    }
   ],
   "source": [
    "re.split(f\",\\s*\", s) # 切割的 pattern，是逗點後接 0 個以上的空格"
   ]
  },
  {
   "cell_type": "markdown",
   "metadata": {},
   "source": [
    "## flags 的使用"
   ]
  },
  {
   "cell_type": "markdown",
   "metadata": {},
   "source": [
    "* 剛剛學過的 `re.search`, `re.match`, `re.xxx` 裡面其實都還有一個參數 `flag = ` 我們沒用過\n",
    "* 現在就來介紹這個參數可以怎麼用"
   ]
  },
  {
   "cell_type": "markdown",
   "metadata": {},
   "source": [
    "### `flags = re.IGNORECASE` 可忽略大小寫"
   ]
  },
  {
   "cell_type": "code",
   "execution_count": 8,
   "metadata": {},
   "outputs": [
    {
     "name": "stdout",
     "output_type": "stream",
     "text": [
      "<re.Match object; span=(0, 3), match='aaa'>\n",
      "<re.Match object; span=(3, 6), match='AAA'>\n",
      "<re.Match object; span=(0, 6), match='aaaAAA'>\n"
     ]
    }
   ],
   "source": [
    "s = \"aaaAAA\"\n",
    "print(re.search(pattern = r\"a+\", string = s))\n",
    "print(re.search(pattern = r\"A+\", string = s))\n",
    "print(re.search(pattern = r\"a+\", string = s, flags=re.IGNORECASE))"
   ]
  },
  {
   "cell_type": "markdown",
   "metadata": {},
   "source": [
    "### `flags = re.MULTILINE` 會把換行後的字串當新的一行"
   ]
  },
  {
   "cell_type": "markdown",
   "metadata": {},
   "source": [
    "* 如下例，我的原始字串雖然有換行符號，但預設下，他還是只當成是一行\n",
    "* 這會造成，`bar` 是第二行的起頭，但我用 `^bar` 會抓不到他："
   ]
  },
  {
   "cell_type": "code",
   "execution_count": 11,
   "metadata": {},
   "outputs": [
    {
     "name": "stdout",
     "output_type": "stream",
     "text": [
      "<re.Match object; span=(0, 3), match='foo'>\n",
      "None\n"
     ]
    }
   ],
   "source": [
    "s = \"foo\\nbar\\nbaz\"\n",
    "print(re.search(\"^foo\", s))\n",
    "print(re.search(\"^bar\", s))"
   ]
  },
  {
   "cell_type": "markdown",
   "metadata": {},
   "source": [
    "* 如果有加 `tags = re.MULTILINE`，就可以解決這個問題，因為他把換行後的字串當新的一行"
   ]
  },
  {
   "cell_type": "code",
   "execution_count": 12,
   "metadata": {},
   "outputs": [
    {
     "name": "stdout",
     "output_type": "stream",
     "text": [
      "<re.Match object; span=(4, 7), match='bar'>\n"
     ]
    }
   ],
   "source": [
    "\n",
    "print(re.search(\"^bar\", s, re.MULTILINE))"
   ]
  },
  {
   "cell_type": "markdown",
   "metadata": {},
   "source": [
    "### `re.VERBOSE` 可以處理 多行+註解 的 regex"
   ]
  },
  {
   "cell_type": "markdown",
   "metadata": {},
   "source": [
    "* 有時候，regex會寫得很長，如果不加註解，也不換行，會非常難閱讀\n",
    "* 所以，regex 有可能寫成下面這樣："
   ]
  },
  {
   "cell_type": "code",
   "execution_count": 15,
   "metadata": {},
   "outputs": [],
   "source": [
    "regex = r'''\n",
    "    (\\(\\d{2}\\))? # (2個數字) 有或沒有都可以, 其實就是要抓區域碼，e.g. (02)\n",
    "    \\s* # 0 個以上的空格\n",
    "    \\d{4} # 3 個數字\n",
    "    [-.] # - 或 .\n",
    "    \\d{4} # 4 個數字\n",
    "    $\n",
    "'''"
   ]
  },
  {
   "cell_type": "code",
   "execution_count": 17,
   "metadata": {},
   "outputs": [
    {
     "name": "stdout",
     "output_type": "stream",
     "text": [
      "None\n",
      "None\n"
     ]
    }
   ],
   "source": [
    "print(re.search(regex, \"2763-5735\"))\n",
    "print(re.search(regex, \"(02) 2763-5735\"))"
   ]
  },
  {
   "cell_type": "markdown",
   "metadata": {},
   "source": [
    "* 可以發現，都抓不到\n",
    "* 但如果加上 `flags = re.VERBOSE` 就 ok 了"
   ]
  },
  {
   "cell_type": "code",
   "execution_count": 19,
   "metadata": {},
   "outputs": [
    {
     "name": "stdout",
     "output_type": "stream",
     "text": [
      "<re.Match object; span=(0, 9), match='2763-5735'>\n",
      "<re.Match object; span=(0, 14), match='(02) 2763-5735'>\n"
     ]
    }
   ],
   "source": [
    "print(re.search(regex, \"2763-5735\", flags = re.VERBOSE))\n",
    "print(re.search(regex, \"(02) 2763-5735\", flags = re.VERBOSE))"
   ]
  },
  {
   "cell_type": "markdown",
   "metadata": {},
   "source": [
    "## 用 `re.compile` 把 regex 變成 object"
   ]
  },
  {
   "cell_type": "markdown",
   "metadata": {},
   "source": [
    "* 有時候，我們同一個 regex，會在程式中多次被使用\n",
    "* 那如果我把它變成一個 object，那之後有需要修改時，我就只要改一開始定義好的 object 就 ok ，不用到程式裡面去一個一個修改 regex 字串\n",
    "* 作法如下："
   ]
  },
  {
   "cell_type": "code",
   "execution_count": 20,
   "metadata": {},
   "outputs": [
    {
     "name": "stdout",
     "output_type": "stream",
     "text": [
      "<re.Match object; span=(3, 6), match='BAR'>\n",
      "<re.Match object; span=(3, 6), match='BAR'>\n"
     ]
    }
   ],
   "source": [
    "re_obj = re.compile(r\"ba[rz]\", flags = re.IGNORECASE) # 直接定義好，我的 regex 要找 bar 或 baz，然後忽略大小寫\n",
    "print(re.search(re_obj, \"FOOBARBAZ\")) # 可以像這樣搜尋\n",
    "print(re_obj.search(\"FOOBARBAZ\")) # 也可以用 oo 的方式搜尋"
   ]
  },
  {
   "cell_type": "markdown",
   "metadata": {},
   "source": [
    "## Exercise"
   ]
  },
  {
   "cell_type": "markdown",
   "metadata": {},
   "source": [
    "* 假設我們拿到以下字串："
   ]
  },
  {
   "cell_type": "code",
   "execution_count": 21,
   "metadata": {},
   "outputs": [],
   "source": [
    "s = \"\"\"\n",
    "interface Vlan8\n",
    " ip address 192.168.3.50 255.255.255.240\n",
    " no ip redirects\n",
    " no ip unreachables\n",
    " no ip proxy-arp\n",
    "!\n",
    "interface Vlan9\n",
    " ip address 192.168.3.66 255.255.255.240\n",
    " no ip redirects\n",
    " no ip unreachables\n",
    " no ip proxy-arp\n",
    "!\n",
    "interface Vlan10\n",
    " ip address 192.168.3.82 255.255.255.240\n",
    " no ip redirects\n",
    " no ip unreachables\n",
    " no ip proxy-arp\n",
    "!\n",
    "interface Vlan25\n",
    " ip address 192.168.3.211 255.255.255.240\n",
    " no ip redirects\n",
    " no ip unreachables\n",
    " no ip proxy-arp\n",
    "!\n",
    "interface Vlan26\n",
    " ip address 192.168.3.227 255.255.255.240\n",
    " no ip redirects\n",
    " no ip unreachables\n",
    " no ip proxy-arp\n",
    "!\n",
    "interface Vlan99\n",
    " bandwidth 10000000\n",
    " ip address 192.168.1.2 255.255.255.252\n",
    " no ip redirects\n",
    " no ip unreachables\n",
    " no ip proxy-arp\n",
    "!\n",
    "interface Vlan100\n",
    " ip address 192.168.192.2 255.255.255.248\n",
    " no ip redirects\n",
    " no ip unreachables\n",
    " no ip proxy-arp\n",
    "\"\"\""
   ]
  },
  {
   "cell_type": "markdown",
   "metadata": {},
   "source": [
    "* 然後，我想找出：\n",
    "  * interface name (e.g. Vlan8, Vlan9, Vlan10)\n",
    "  * ip (e.g. 255.255.155.140, ...)\n",
    "  * mask (e.g. 192.168.3.50)\n",
    "* 並把結果寫成以下 dictionary"
   ]
  },
  {
   "cell_type": "code",
   "execution_count": 22,
   "metadata": {},
   "outputs": [],
   "source": [
    "result = [\n",
    "    {'name': 'Vlan8', 'ip': '192.168.3.50', 'mask': '255.255.255.240'},\n",
    "    {'name': 'Vlan9', 'ip': '192.168.3.66', 'mask': '255.255.255.240'},\n",
    "    {'name': 'Vlan10', 'ip': '192.168.3.82', 'mask': '255.255.255.240'},\n",
    "    {'name': 'Vlan25', 'ip': '192.168.3.211', 'mask': '255.255.255.240'},\n",
    "    {'name': 'Vlan26', 'ip': '192.168.3.227', 'mask': '255.255.255.240'},\n",
    "    {'name': 'Vlan99', 'ip': '192.168.1.2', 'mask': '255.255.255.252'},\n",
    "    {'name': 'Vlan100', 'ip': '192.168.192.2', 'mask': '255.255.255.248'}\n",
    "]"
   ]
  },
  {
   "cell_type": "markdown",
   "metadata": {},
   "source": [
    "* 首先來看，我想找 interface name，可以這樣做："
   ]
  },
  {
   "cell_type": "code",
   "execution_count": 27,
   "metadata": {},
   "outputs": [
    {
     "data": {
      "text/plain": [
       "['Vlan8', 'Vlan9', 'Vlan10', 'Vlan25', 'Vlan26', 'Vlan99', 'Vlan100']"
      ]
     },
     "execution_count": 27,
     "metadata": {},
     "output_type": "execute_result"
    }
   ],
   "source": [
    "res1 = re.findall(r\"^interface (?P<name>\\w+)\", s, flags = re.MULTILINE)\n",
    "res1"
   ]
  },
  {
   "cell_type": "markdown",
   "metadata": {},
   "source": [
    "* 找 ip 可以這樣做"
   ]
  },
  {
   "cell_type": "code",
   "execution_count": 29,
   "metadata": {},
   "outputs": [
    {
     "data": {
      "text/plain": [
       "['192.168.3.50',\n",
       " '192.168.3.66',\n",
       " '192.168.3.82',\n",
       " '192.168.3.211',\n",
       " '192.168.3.227',\n",
       " '192.168.1.2',\n",
       " '192.168.192.2']"
      ]
     },
     "execution_count": 29,
     "metadata": {},
     "output_type": "execute_result"
    }
   ],
   "source": [
    "res2 = re.findall(r\"ip address (?P<ip>\\d+\\.\\d+\\.\\d+\\.\\d+)\", s, flags = re.MULTILINE)\n",
    "res2"
   ]
  },
  {
   "cell_type": "markdown",
   "metadata": {},
   "source": [
    "* 找 mask 可以這樣做"
   ]
  },
  {
   "cell_type": "code",
   "execution_count": 31,
   "metadata": {},
   "outputs": [
    {
     "data": {
      "text/plain": [
       "['255.255.255.240',\n",
       " '255.255.255.240',\n",
       " '255.255.255.240',\n",
       " '255.255.255.240',\n",
       " '255.255.255.240',\n",
       " '255.255.255.252',\n",
       " '255.255.255.248']"
      ]
     },
     "execution_count": 31,
     "metadata": {},
     "output_type": "execute_result"
    }
   ],
   "source": [
    "res3 = re.findall(r\"ip address [\\d\\.]+\\s(?P<mask>\\d+\\.\\d+\\.\\d+\\.\\d+)\", sm)\n",
    "res3"
   ]
  },
  {
   "cell_type": "markdown",
   "metadata": {},
   "source": [
    "* 組起來"
   ]
  },
  {
   "cell_type": "code",
   "execution_count": 32,
   "metadata": {},
   "outputs": [
    {
     "data": {
      "text/plain": [
       "[{'name': 'Vlan8', 'ip': '192.168.3.50', 'mask': '255.255.255.240'},\n",
       " {'name': 'Vlan9', 'ip': '192.168.3.66', 'mask': '255.255.255.240'},\n",
       " {'name': 'Vlan10', 'ip': '192.168.3.82', 'mask': '255.255.255.240'},\n",
       " {'name': 'Vlan25', 'ip': '192.168.3.211', 'mask': '255.255.255.240'},\n",
       " {'name': 'Vlan26', 'ip': '192.168.3.227', 'mask': '255.255.255.240'},\n",
       " {'name': 'Vlan99', 'ip': '192.168.1.2', 'mask': '255.255.255.252'},\n",
       " {'name': 'Vlan100', 'ip': '192.168.192.2', 'mask': '255.255.255.248'}]"
      ]
     },
     "execution_count": 32,
     "metadata": {},
     "output_type": "execute_result"
    }
   ],
   "source": [
    "result = []\n",
    "for name, ip, mask in zip(res1, res2, res3):\n",
    "    temp_dict = dict()\n",
    "    temp_dict[\"name\"] = name\n",
    "    temp_dict[\"ip\"] = ip\n",
    "    temp_dict[\"mask\"] = mask\n",
    "    result.append(temp_dict)\n",
    "result"
   ]
  },
  {
   "cell_type": "markdown",
   "metadata": {},
   "source": [
    "* 除了上面這種做法外，有另一個更快的，可以這樣做："
   ]
  },
  {
   "cell_type": "code",
   "execution_count": 34,
   "metadata": {},
   "outputs": [
    {
     "name": "stdout",
     "output_type": "stream",
     "text": [
      "{'name': 'Vlan8', 'ip': '192.168.3.50', 'mask': '255.255.255.240'}\n",
      "{'name': 'Vlan9', 'ip': '192.168.3.66', 'mask': '255.255.255.240'}\n",
      "{'name': 'Vlan10', 'ip': '192.168.3.82', 'mask': '255.255.255.240'}\n",
      "{'name': 'Vlan25', 'ip': '192.168.3.211', 'mask': '255.255.255.240'}\n",
      "{'name': 'Vlan26', 'ip': '192.168.3.227', 'mask': '255.255.255.240'}\n",
      "{'name': 'Vlan99', 'ip': '192.168.1.2', 'mask': '255.255.255.252'}\n",
      "{'name': 'Vlan100', 'ip': '192.168.192.2', 'mask': '255.255.255.248'}\n"
     ]
    }
   ],
   "source": [
    "interface_descriptions = re.finditer(\n",
    "    r\"^interface (?P<name>\\w+)\\n\"\n",
    "    r\"( .*\\n)*\"\n",
    "    r\" ip address (?P<ip>\\S+) (?P<mask>\\S+)\\n\",\n",
    "    s,\n",
    "    re.MULTILINE)\n",
    "\n",
    "for part in interface_descriptions:\n",
    "    print(part.groupdict())"
   ]
  },
  {
   "cell_type": "code",
   "execution_count": null,
   "metadata": {},
   "outputs": [],
   "source": []
  }
 ],
 "metadata": {
  "kernelspec": {
   "display_name": "python_ds_env",
   "language": "python",
   "name": "python_ds_env"
  },
  "language_info": {
   "codemirror_mode": {
    "name": "ipython",
    "version": 3
   },
   "file_extension": ".py",
   "mimetype": "text/x-python",
   "name": "python",
   "nbconvert_exporter": "python",
   "pygments_lexer": "ipython3",
   "version": "3.8.0"
  }
 },
 "nbformat": 4,
 "nbformat_minor": 2
}