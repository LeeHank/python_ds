{
 "cells": [
  {
   "cell_type": "markdown",
   "metadata": {},
   "source": [
    "# Histograms and Density"
   ]
  },
  {
   "cell_type": "code",
   "execution_count": 1,
   "metadata": {},
   "outputs": [],
   "source": [
    "%matplotlib inline\n",
    "import numpy as np\n",
    "import matplotlib.pyplot as plt\n",
    "plt.style.use('seaborn-white')"
   ]
  },
  {
   "cell_type": "markdown",
   "metadata": {},
   "source": [
    "## 一維的直方圖"
   ]
  },
  {
   "cell_type": "markdown",
   "metadata": {},
   "source": [
    "* 一個簡單的直方圖，就用 `plt.hist()` 就可以完成："
   ]
  },
  {
   "cell_type": "code",
   "execution_count": 2,
   "metadata": {
    "tags": []
   },
   "outputs": [
    {
     "data": {
      "image/png": "[encoded data removed]",
      "text/plain": [
       "<Figure size 432x288 with 1 Axes>"
      ]
     },
     "metadata": {
      "filenames": {
       "image/png": "/Volumes/GoogleDrive/我的雲端硬碟/0. codepool_python/python_ds/_build/jupyter_execute/ch4_matplotlib/04.05-Histograms-and-Density_4_0.png"
      }
     },
     "output_type": "display_data"
    }
   ],
   "source": [
    "data = np.random.randn(1000)\n",
    "plt.hist(data);"
   ]
  },
  {
   "cell_type": "markdown",
   "metadata": {},
   "source": [
    "* 我們還有很多客製化的參數可以下："
   ]
  },
  {
   "cell_type": "code",
   "execution_count": 3,
   "metadata": {
    "collapsed": false,
    "jupyter": {
     "outputs_hidden": false
    }
   },
   "outputs": [
    {
     "data": {
      "image/png": "[encoded data removed]",
      "text/plain": [
       "<Figure size 432x288 with 1 Axes>"
      ]
     },
     "metadata": {
      "filenames": {
       "image/png": "/Volumes/GoogleDrive/我的雲端硬碟/0. codepool_python/python_ds/_build/jupyter_execute/ch4_matplotlib/04.05-Histograms-and-Density_6_0.png"
      }
     },
     "output_type": "display_data"
    }
   ],
   "source": [
    "plt.hist(data, \n",
    "         bins=30, \n",
    "         color='steelblue',\n",
    "         edgecolor='none',\n",
    "         histtype='stepfilled', \n",
    "         alpha=0.5);"
   ]
  },
  {
   "cell_type": "markdown",
   "metadata": {},
   "source": [
    "* 如果想得到分類後的數據就好，那可以這樣做"
   ]
  },
  {
   "cell_type": "code",
   "execution_count": 4,
   "metadata": {
    "collapsed": false,
    "jupyter": {
     "outputs_hidden": false
    }
   },
   "outputs": [
    {
     "name": "stdout",
     "output_type": "stream",
     "text": [
      "[-2.8360981  -1.46780158 -0.09950506  1.26879146  2.63708798  4.00538451]\n",
      "[ 79 387 410 117   7]\n"
     ]
    }
   ],
   "source": [
    "counts, bin_edges = np.histogram(data, bins=5)\n",
    "print(bin_edges) # 每個bin的起點終點\n",
    "print(counts) # 每個 bin 對應到的次數"
   ]
  },
  {
   "cell_type": "markdown",
   "metadata": {},
   "source": [
    "* 如果要同時畫多個 histogram，那就多做幾次 `plt.hist()` 就好:"
   ]
  },
  {
   "cell_type": "code",
   "execution_count": 5,
   "metadata": {
    "collapsed": false,
    "jupyter": {
     "outputs_hidden": false
    }
   },
   "outputs": [
    {
     "data": {
      "image/png": "[encoded data removed]",
      "text/plain": [
       "<Figure size 432x288 with 1 Axes>"
      ]
     },
     "metadata": {
      "filenames": {
       "image/png": "/Volumes/GoogleDrive/我的雲端硬碟/0. codepool_python/python_ds/_build/jupyter_execute/ch4_matplotlib/04.05-Histograms-and-Density_10_0.png"
      }
     },
     "output_type": "display_data"
    }
   ],
   "source": [
    "x1 = np.random.normal(0, 0.8, 1000)\n",
    "x2 = np.random.normal(-2, 1, 1000)\n",
    "x3 = np.random.normal(3, 2, 1000)\n",
    "\n",
    "kwargs = dict(histtype='stepfilled', alpha=0.3, bins=40)\n",
    "\n",
    "plt.hist(x1, **kwargs)\n",
    "plt.hist(x2, **kwargs)\n",
    "plt.hist(x3, **kwargs);"
   ]
  },
  {
   "cell_type": "markdown",
   "metadata": {},
   "source": [
    "## 二維的直方圖"
   ]
  },
  {
   "cell_type": "code",
   "execution_count": 6,
   "metadata": {
    "collapsed": false,
    "jupyter": {
     "outputs_hidden": false
    }
   },
   "outputs": [],
   "source": [
    "# 生出二維常態的資料\n",
    "mean = [0, 0]\n",
    "cov = [[1, 1], [1, 2]]\n",
    "x, y = np.random.multivariate_normal(mean, cov, 10000).T"
   ]
  },
  {
   "cell_type": "markdown",
   "metadata": {},
   "source": [
    "### ``plt.hist2d``: 二維直方圖"
   ]
  },
  {
   "cell_type": "markdown",
   "metadata": {},
   "source": [
    "* 剛剛一維的 histogram，是用 `plt.hist()` 來畫，現在二維的 histogram，是用 `plt.hist2d()` 來畫. "
   ]
  },
  {
   "cell_type": "code",
   "execution_count": 7,
   "metadata": {
    "collapsed": false,
    "jupyter": {
     "outputs_hidden": false
    }
   },
   "outputs": [
    {
     "data": {
      "image/png": "[encoded data removed]",
      "text/plain": [
       "<Figure size 432x288 with 2 Axes>"
      ]
     },
     "metadata": {
      "filenames": {
       "image/png": "/Volumes/GoogleDrive/我的雲端硬碟/0. codepool_python/python_ds/_build/jupyter_execute/ch4_matplotlib/04.05-Histograms-and-Density_15_0.png"
      }
     },
     "output_type": "display_data"
    }
   ],
   "source": [
    "plt.hist2d(x, y, bins=30, cmap='Blues')\n",
    "cb = plt.colorbar()\n",
    "cb.set_label('counts in bin')"
   ]
  },
  {
   "cell_type": "markdown",
   "metadata": {},
   "source": [
    "* 就像剛剛可以用 `np.histogram()` 來得到組別和各組的count的訊息，現在可以用 `np.histogram2d()` 來得到各組的組別(就是x和y的range)以及組別的count。作法如下："
   ]
  },
  {
   "cell_type": "code",
   "execution_count": 8,
   "metadata": {
    "collapsed": false,
    "jupyter": {
     "outputs_hidden": false
    }
   },
   "outputs": [],
   "source": [
    "counts, xedges, yedges = np.histogram2d(x, y, bins=30)"
   ]
  },
  {
   "cell_type": "code",
   "execution_count": 9,
   "metadata": {},
   "outputs": [
    {
     "name": "stdout",
     "output_type": "stream",
     "text": [
      "[[  0.   0.   0.   0.   1.   1.   0.   0.   0.   2.   0.   0.   0.   0.\n",
      "    0.   0.   0.   0.   0.   0.   0.   0.   0.   0.   0.   0.   0.   0.\n",
      "    0.   0.]\n",
      " [  0.   0.   0.   0.   0.   0.   1.   1.   4.   0.   0.   0.   0.   0.\n",
      "    0.   0.   0.   0.   0.   0.   0.   0.   0.   0.   0.   0.   0.   0.\n",
      "    0.   0.]\n",
      " [  1.   0.   0.   3.   0.   0.   2.   0.   2.   1.   1.   1.   1.   0.\n",
      "    0.   0.   0.   0.   0.   0.   0.   0.   0.   0.   0.   0.   0.   0.\n",
      "    0.   0.]\n",
      " [  0.   0.   2.   0.   1.   3.   1.   0.   3.   1.   2.   3.   1.   0.\n",
      "    1.   1.   0.   0.   0.   0.   0.   0.   0.   0.   0.   0.   0.   0.\n",
      "    0.   0.]\n",
      " [  1.   1.   0.   1.   1.   3.   1.   0.   4.   5.   4.   3.   3.   0.\n",
      "    1.   0.   0.   0.   0.   0.   0.   0.   0.   0.   0.   0.   0.   0.\n",
      "    0.   0.]\n",
      " [  0.   0.   1.   1.   1.   3.   9.   9.   8.  17.   6.  10.   4.   4.\n",
      "    0.   1.   0.   0.   0.   0.   0.   0.   0.   0.   0.   0.   0.   0.\n",
      "    0.   0.]\n",
      " [  0.   0.   0.   1.   0.   7.  12.  13.  16.  18.   8.  11.   8.   6.\n",
      "    3.   4.   3.   0.   0.   0.   0.   0.   0.   0.   0.   0.   0.   0.\n",
      "    0.   0.]\n",
      " [  0.   0.   0.   0.   0.   6.   4.  19.  24.  20.  33.  21.  27.   6.\n",
      "   10.   3.   2.   1.   0.   0.   0.   0.   0.   0.   0.   0.   0.   0.\n",
      "    0.   0.]\n",
      " [  0.   0.   1.   0.   4.   4.  15.  15.  32.  36.  50.  60.  32.  35.\n",
      "   19.  13.   4.   2.   0.   1.   0.   0.   0.   0.   0.   0.   0.   0.\n",
      "    0.   0.]\n",
      " [  0.   0.   0.   0.   0.   2.   7.  17.  25.  28.  57.  62.  55.  48.\n",
      "   44.  20.  13.   3.   3.   1.   2.   0.   0.   0.   0.   0.   0.   0.\n",
      "    0.   0.]\n",
      " [  0.   0.   0.   1.   2.   1.  12.  17.  26.  54.  55.  76.  92.  90.\n",
      "   55.  37.  20.   9.   2.   1.   0.   0.   0.   0.   0.   0.   0.   0.\n",
      "    0.   0.]\n",
      " [  0.   0.   0.   0.   1.   1.   4.   9.  23.  49.  66.  72. 101. 112.\n",
      "  107.  82.  43.  22.  16.   4.   1.   0.   0.   0.   0.   0.   0.   0.\n",
      "    0.   0.]\n",
      " [  0.   0.   0.   1.   0.   0.   1.   8.  17.  30.  54.  89. 103. 114.\n",
      "  130.  89.  67.  52.  22.  14.   6.   1.   0.   0.   0.   0.   0.   0.\n",
      "    0.   0.]\n",
      " [  0.   0.   0.   0.   0.   0.   3.   4.  12.  28.  40.  58. 125. 123.\n",
      "  152. 125.  85.  59.  55.  24.   8.   1.   2.   0.   0.   0.   0.   0.\n",
      "    0.   0.]\n",
      " [  0.   0.   0.   0.   0.   0.   0.   2.   4.  13.  33.  62.  93. 120.\n",
      "  132. 143. 126.  97.  58.  39.  15.   5.   5.   0.   0.   0.   0.   0.\n",
      "    0.   0.]\n",
      " [  0.   0.   0.   0.   0.   0.   1.   0.   1.  16.  23.  49.  65. 108.\n",
      "  139. 117. 131. 111.  85.  54.  30.  10.   5.   3.   0.   0.   0.   0.\n",
      "    0.   0.]\n",
      " [  0.   0.   0.   0.   0.   0.   0.   1.   4.   2.  11.  25.  51.  72.\n",
      "  110. 108. 129. 121.  86.  71.  47.  19.   7.   7.   1.   0.   0.   0.\n",
      "    0.   0.]\n",
      " [  0.   0.   0.   0.   0.   0.   0.   0.   1.   3.   6.  18.  24.  55.\n",
      "   62. 103. 112. 122. 119.  88.  56.  23.  18.   5.   1.   0.   1.   0.\n",
      "    0.   0.]\n",
      " [  0.   0.   0.   0.   0.   0.   0.   0.   1.   0.   0.   7.  18.  27.\n",
      "   46.  87.  83. 121. 104.  73.  54.  25.  18.  13.   4.   1.   0.   0.\n",
      "    0.   0.]\n",
      " [  0.   0.   0.   0.   0.   0.   0.   0.   0.   0.   0.   2.   8.  15.\n",
      "   19.  40.  64.  76.  81.  85.  63.  35.  30.  10.   7.   2.   0.   0.\n",
      "    0.   0.]\n",
      " [  0.   0.   0.   0.   0.   0.   0.   0.   0.   0.   0.   4.   4.   3.\n",
      "   14.  34.  46.  61.  58.  53.  64.  38.  21.   9.  12.   4.   1.   0.\n",
      "    0.   0.]\n",
      " [  0.   0.   0.   0.   0.   0.   0.   0.   0.   0.   0.   0.   2.   5.\n",
      "    6.   9.  18.  23.  23.  38.  35.  24.  23.  16.   5.   4.   1.   1.\n",
      "    0.   0.]\n",
      " [  0.   0.   0.   0.   0.   0.   0.   0.   0.   0.   0.   0.   0.   2.\n",
      "    4.   9.  13.  15.  28.  30.  25.  25.  14.  12.  11.   5.   2.   1.\n",
      "    0.   0.]\n",
      " [  0.   0.   0.   0.   0.   0.   0.   0.   0.   0.   0.   0.   0.   0.\n",
      "    0.   4.   1.   8.  14.  16.   7.   9.  16.  13.   4.   1.   2.   0.\n",
      "    0.   0.]\n",
      " [  0.   0.   0.   0.   0.   0.   0.   0.   0.   0.   0.   0.   0.   0.\n",
      "    1.   1.   2.   1.   4.   7.  16.   7.  11.  12.   7.   3.   2.   0.\n",
      "    1.   1.]\n",
      " [  0.   0.   0.   0.   0.   0.   0.   0.   0.   0.   0.   0.   0.   0.\n",
      "    0.   0.   1.   1.   4.   4.   4.   3.   9.   8.   3.   2.   0.   1.\n",
      "    1.   0.]\n",
      " [  0.   0.   0.   0.   0.   0.   0.   0.   0.   0.   0.   0.   0.   0.\n",
      "    0.   0.   0.   0.   1.   0.   1.   1.   1.   3.   1.   1.   0.   0.\n",
      "    0.   1.]\n",
      " [  0.   0.   0.   0.   0.   0.   0.   0.   0.   0.   0.   0.   0.   0.\n",
      "    0.   0.   0.   0.   0.   0.   1.   1.   1.   0.   3.   1.   2.   1.\n",
      "    0.   0.]\n",
      " [  0.   0.   0.   0.   0.   0.   0.   0.   0.   0.   0.   0.   0.   0.\n",
      "    0.   0.   0.   0.   0.   0.   0.   0.   0.   1.   1.   1.   1.   0.\n",
      "    0.   0.]\n",
      " [  0.   0.   0.   0.   0.   0.   0.   0.   0.   0.   0.   0.   0.   0.\n",
      "    0.   0.   0.   0.   0.   0.   0.   1.   0.   0.   1.   0.   0.   0.\n",
      "    0.   0.]]\n",
      "[-3.63942799 -3.39532591 -3.15122383 -2.90712176 -2.66301968 -2.4189176\n",
      " -2.17481552 -1.93071345 -1.68661137 -1.44250929 -1.19840721 -0.95430514\n",
      " -0.71020306 -0.46610098 -0.22199891  0.02210317  0.26620525  0.51030733\n",
      "  0.7544094   0.99851148  1.24261356  1.48671564  1.73081771  1.97491979\n",
      "  2.21902187  2.46312394  2.70722602  2.9513281   3.19543018  3.43953225\n",
      "  3.68363433]\n",
      "[-5.76472591 -5.38746746 -5.010209   -4.63295054 -4.25569209 -3.87843363\n",
      " -3.50117517 -3.12391672 -2.74665826 -2.3693998  -1.99214135 -1.61488289\n",
      " -1.23762443 -0.86036598 -0.48310752 -0.10584906  0.27140939  0.64866785\n",
      "  1.0259263   1.40318476  1.78044322  2.15770167  2.53496013  2.91221859\n",
      "  3.28947704  3.6667355   4.04399396  4.42125241  4.79851087  5.17576933\n",
      "  5.55302778]\n"
     ]
    }
   ],
   "source": [
    "print(counts)\n",
    "print(xedges)\n",
    "print(yedges)"
   ]
  },
  {
   "cell_type": "code",
   "execution_count": 10,
   "metadata": {
    "collapsed": false,
    "jupyter": {
     "outputs_hidden": false
    }
   },
   "outputs": [
    {
     "data": {
      "image/png": "[encoded data removed]",
      "text/plain": [
       "<Figure size 432x288 with 2 Axes>"
      ]
     },
     "metadata": {
      "filenames": {
       "image/png": "/Volumes/GoogleDrive/我的雲端硬碟/0. codepool_python/python_ds/_build/jupyter_execute/ch4_matplotlib/04.05-Histograms-and-Density_19_0.png"
      }
     },
     "output_type": "display_data"
    }
   ],
   "source": [
    "plt.hexbin(x, y, gridsize=30, cmap='Blues')\n",
    "cb = plt.colorbar(label='count in bin')"
   ]
  },
  {
   "cell_type": "markdown",
   "metadata": {},
   "source": [
    "### Kernel density estimation"
   ]
  },
  {
   "cell_type": "markdown",
   "metadata": {},
   "source": [
    "* 我們也可以去估計二維分配的 density，例如，我假設資料服從二維常態，然後去估計他\n",
    "* 我們可以用 `scipy.stats` 這個 module"
   ]
  },
  {
   "cell_type": "code",
   "execution_count": 11,
   "metadata": {
    "collapsed": false,
    "jupyter": {
     "outputs_hidden": false
    }
   },
   "outputs": [
    {
     "data": {
      "image/png": "[encoded data removed]",
      "text/plain": [
       "<Figure size 432x288 with 2 Axes>"
      ]
     },
     "metadata": {
      "filenames": {
       "image/png": "/Volumes/GoogleDrive/我的雲端硬碟/0. codepool_python/python_ds/_build/jupyter_execute/ch4_matplotlib/04.05-Histograms-and-Density_22_0.png"
      }
     },
     "output_type": "display_data"
    }
   ],
   "source": [
    "from scipy.stats import gaussian_kde\n",
    "\n",
    "# fit an array of size [Ndim, Nsamples]\n",
    "data = np.vstack([x, y])\n",
    "kde = gaussian_kde(data)\n",
    "\n",
    "# evaluate on a regular grid\n",
    "xgrid = np.linspace(-3.5, 3.5, 40)\n",
    "ygrid = np.linspace(-6, 6, 40)\n",
    "Xgrid, Ygrid = np.meshgrid(xgrid, ygrid)\n",
    "Z = kde.evaluate(np.vstack([Xgrid.ravel(), Ygrid.ravel()]))\n",
    "\n",
    "# Plot the result as an image\n",
    "plt.imshow(Z.reshape(Xgrid.shape),\n",
    "           origin='lower', aspect='auto',\n",
    "           extent=[-3.5, 3.5, -6, 6],\n",
    "           cmap='Blues')\n",
    "cb = plt.colorbar()\n",
    "cb.set_label(\"density\")"
   ]
  },
  {
   "cell_type": "markdown",
   "metadata": {},
   "source": [
    "* 之後在 [深入研究: 核密度估計]()的章節，會介紹 kernel density的估計方法。  \n",
    "* 後面的 [使用seaborn]()進行視覺化，也會介紹seaborn更簡潔的語法，做到更客製化的繪圖。"
   ]
  }
 ],
 "metadata": {
  "anaconda-cloud": {},
  "kernelspec": {
   "display_name": "python_ds_env",
   "language": "python",
   "name": "python_ds_env"
  },
  "language_info": {
   "codemirror_mode": {
    "name": "ipython",
    "version": 3
   },
   "file_extension": ".py",
   "mimetype": "text/x-python",
   "name": "python",
   "nbconvert_exporter": "python",
   "pygments_lexer": "ipython3",
   "version": "3.8.0"
  }
 },
 "nbformat": 4,
 "nbformat_minor": 4
}