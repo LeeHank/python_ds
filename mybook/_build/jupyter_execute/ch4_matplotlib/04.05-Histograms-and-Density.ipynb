{
 "cells": [
  {
   "cell_type": "markdown",
   "metadata": {},
   "source": [
    "# Histograms and Density"
   ]
  },
  {
   "cell_type": "code",
   "execution_count": 1,
   "metadata": {},
   "outputs": [],
   "source": [
    "%matplotlib inline\n",
    "import numpy as np\n",
    "import matplotlib.pyplot as plt\n",
    "plt.style.use('seaborn-white')"
   ]
  },
  {
   "cell_type": "markdown",
   "metadata": {},
   "source": [
    "## 一維的直方圖"
   ]
  },
  {
   "cell_type": "markdown",
   "metadata": {},
   "source": [
    "* 一個簡單的直方圖，就用 `plt.hist()` 就可以完成："
   ]
  },
  {
   "cell_type": "code",
   "execution_count": 2,
   "metadata": {
    "tags": []
   },
   "outputs": [
    {
     "data": {
      "image/png": "[encoded data removed]",
      "text/plain": [
       "<Figure size 432x288 with 1 Axes>"
      ]
     },
     "metadata": {
      "filenames": {
       "image/png": "/Volumes/GoogleDrive/我的雲端硬碟/0. codepool_python/python_ds/mybook/_build/jupyter_execute/ch4_matplotlib/04.05-Histograms-and-Density_4_0.png"
      }
     },
     "output_type": "display_data"
    }
   ],
   "source": [
    "data = np.random.randn(1000)\n",
    "plt.hist(data);"
   ]
  },
  {
   "cell_type": "markdown",
   "metadata": {},
   "source": [
    "* 我們還有很多客製化的參數可以下："
   ]
  },
  {
   "cell_type": "code",
   "execution_count": 3,
   "metadata": {
    "collapsed": false,
    "jupyter": {
     "outputs_hidden": false
    }
   },
   "outputs": [
    {
     "data": {
      "image/png": "[encoded data removed]",
      "text/plain": [
       "<Figure size 432x288 with 1 Axes>"
      ]
     },
     "metadata": {
      "filenames": {
       "image/png": "/Volumes/GoogleDrive/我的雲端硬碟/0. codepool_python/python_ds/mybook/_build/jupyter_execute/ch4_matplotlib/04.05-Histograms-and-Density_6_0.png"
      }
     },
     "output_type": "display_data"
    }
   ],
   "source": [
    "plt.hist(data, \n",
    "         bins=30, \n",
    "         color='steelblue',\n",
    "         edgecolor='none',\n",
    "         histtype='stepfilled', \n",
    "         alpha=0.5);"
   ]
  },
  {
   "cell_type": "markdown",
   "metadata": {},
   "source": [
    "* 如果想得到分類後的數據就好，那可以這樣做"
   ]
  },
  {
   "cell_type": "code",
   "execution_count": 4,
   "metadata": {
    "collapsed": false,
    "jupyter": {
     "outputs_hidden": false
    }
   },
   "outputs": [
    {
     "name": "stdout",
     "output_type": "stream",
     "text": [
      "[-3.21645951 -1.95720546 -0.69795141  0.56130263  1.82055668  3.07981073]\n",
      "[ 20 209 481 259  31]\n"
     ]
    }
   ],
   "source": [
    "counts, bin_edges = np.histogram(data, bins=5)\n",
    "print(bin_edges) # 每個bin的起點終點\n",
    "print(counts) # 每個 bin 對應到的次數"
   ]
  },
  {
   "cell_type": "markdown",
   "metadata": {},
   "source": [
    "* 如果要同時畫多個 histogram，那就多做幾次 `plt.hist()` 就好:"
   ]
  },
  {
   "cell_type": "code",
   "execution_count": 5,
   "metadata": {
    "collapsed": false,
    "jupyter": {
     "outputs_hidden": false
    }
   },
   "outputs": [
    {
     "data": {
      "image/png": "[encoded data removed]",
      "text/plain": [
       "<Figure size 432x288 with 1 Axes>"
      ]
     },
     "metadata": {
      "filenames": {
       "image/png": "/Volumes/GoogleDrive/我的雲端硬碟/0. codepool_python/python_ds/mybook/_build/jupyter_execute/ch4_matplotlib/04.05-Histograms-and-Density_10_0.png"
      }
     },
     "output_type": "display_data"
    }
   ],
   "source": [
    "x1 = np.random.normal(0, 0.8, 1000)\n",
    "x2 = np.random.normal(-2, 1, 1000)\n",
    "x3 = np.random.normal(3, 2, 1000)\n",
    "\n",
    "kwargs = dict(histtype='stepfilled', alpha=0.3, bins=40)\n",
    "\n",
    "plt.hist(x1, **kwargs)\n",
    "plt.hist(x2, **kwargs)\n",
    "plt.hist(x3, **kwargs);"
   ]
  },
  {
   "cell_type": "markdown",
   "metadata": {},
   "source": [
    "## 二維的直方圖"
   ]
  },
  {
   "cell_type": "code",
   "execution_count": 6,
   "metadata": {
    "collapsed": false,
    "jupyter": {
     "outputs_hidden": false
    }
   },
   "outputs": [],
   "source": [
    "# 生出二維常態的資料\n",
    "mean = [0, 0]\n",
    "cov = [[1, 1], [1, 2]]\n",
    "x, y = np.random.multivariate_normal(mean, cov, 10000).T"
   ]
  },
  {
   "cell_type": "markdown",
   "metadata": {},
   "source": [
    "### ``plt.hist2d``: 二維直方圖"
   ]
  },
  {
   "cell_type": "markdown",
   "metadata": {},
   "source": [
    "* 剛剛一維的 histogram，是用 `plt.hist()` 來畫，現在二維的 histogram，是用 `plt.hist2d()` 來畫. "
   ]
  },
  {
   "cell_type": "code",
   "execution_count": 7,
   "metadata": {
    "collapsed": false,
    "jupyter": {
     "outputs_hidden": false
    }
   },
   "outputs": [
    {
     "data": {
      "image/png": "[encoded data removed]",
      "text/plain": [
       "<Figure size 432x288 with 2 Axes>"
      ]
     },
     "metadata": {
      "filenames": {
       "image/png": "/Volumes/GoogleDrive/我的雲端硬碟/0. codepool_python/python_ds/mybook/_build/jupyter_execute/ch4_matplotlib/04.05-Histograms-and-Density_15_0.png"
      }
     },
     "output_type": "display_data"
    }
   ],
   "source": [
    "plt.hist2d(x, y, bins=30, cmap='Blues')\n",
    "cb = plt.colorbar()\n",
    "cb.set_label('counts in bin')"
   ]
  },
  {
   "cell_type": "markdown",
   "metadata": {},
   "source": [
    "* 就像剛剛可以用 `np.histogram()` 來得到組別和各組的count的訊息，現在可以用 `np.histogram2d()` 來得到各組的組別(就是x和y的range)以及組別的count。作法如下："
   ]
  },
  {
   "cell_type": "code",
   "execution_count": 8,
   "metadata": {
    "collapsed": false,
    "jupyter": {
     "outputs_hidden": false
    }
   },
   "outputs": [],
   "source": [
    "counts, xedges, yedges = np.histogram2d(x, y, bins=30)"
   ]
  },
  {
   "cell_type": "code",
   "execution_count": 9,
   "metadata": {},
   "outputs": [
    {
     "name": "stdout",
     "output_type": "stream",
     "text": [
      "[[  0.   0.   0.   0.   0.   1.   1.   0.   1.   0.   1.   0.   0.   0.\n",
      "    0.   0.   0.   0.   0.   0.   0.   0.   0.   0.   0.   0.   0.   0.\n",
      "    0.   0.]\n",
      " [  0.   0.   0.   2.   0.   0.   1.   0.   0.   0.   0.   0.   1.   0.\n",
      "    0.   0.   0.   0.   0.   0.   0.   0.   0.   0.   0.   0.   0.   0.\n",
      "    0.   0.]\n",
      " [  0.   0.   0.   1.   2.   3.   4.   1.   0.   1.   1.   1.   1.   1.\n",
      "    0.   0.   0.   0.   0.   0.   0.   0.   0.   0.   0.   0.   0.   0.\n",
      "    0.   0.]\n",
      " [  0.   1.   0.   1.   1.   1.   2.   2.   4.   0.   1.   2.   0.   0.\n",
      "    0.   0.   0.   0.   0.   0.   0.   0.   0.   0.   0.   0.   0.   0.\n",
      "    0.   0.]\n",
      " [  0.   2.   3.   0.   4.   7.   1.   4.   6.   3.   4.   5.   1.   1.\n",
      "    0.   0.   0.   1.   0.   0.   0.   0.   0.   0.   0.   0.   0.   0.\n",
      "    0.   0.]\n",
      " [  0.   0.   1.   3.   4.   8.   8.  13.   6.   9.   9.   8.   1.   1.\n",
      "    1.   0.   0.   0.   0.   0.   0.   0.   0.   0.   0.   0.   0.   0.\n",
      "    0.   0.]\n",
      " [  2.   0.   5.   4.   3.  10.   9.  21.   9.  12.  15.   7.   6.   4.\n",
      "    1.   2.   0.   0.   0.   0.   0.   0.   0.   0.   0.   0.   0.   0.\n",
      "    0.   0.]\n",
      " [  0.   0.   0.   3.   7.  11.  15.  13.  24.  29.  16.  16.  12.   6.\n",
      "    5.   2.   0.   0.   0.   0.   0.   0.   0.   0.   0.   0.   0.   0.\n",
      "    0.   0.]\n",
      " [  1.   0.   3.   1.   2.   8.  14.  22.  31.  27.  33.  36.  22.  14.\n",
      "   15.   8.   2.   2.   0.   0.   0.   0.   0.   0.   0.   0.   0.   0.\n",
      "    0.   0.]\n",
      " [  0.   2.   1.   3.   6.  14.  14.  25.  43.  37.  44.  38.  45.  23.\n",
      "   19.  17.   5.   2.   1.   1.   0.   0.   0.   0.   0.   0.   0.   0.\n",
      "    0.   0.]\n",
      " [  0.   1.   0.   2.   5.   5.  15.  26.  42.  50.  75.  62.  72.  49.\n",
      "   31.  20.  10.  10.   4.   0.   2.   0.   0.   0.   0.   0.   0.   0.\n",
      "    0.   0.]\n",
      " [  0.   0.   0.   0.   7.   2.  14.  21.  54.  44.  77.  88.  70.  75.\n",
      "   62.  50.  18.  16.   8.   6.   0.   2.   0.   0.   0.   0.   0.   0.\n",
      "    0.   0.]\n",
      " [  0.   0.   0.   0.   4.   3.  10.  15.  25.  56.  72. 100. 119. 105.\n",
      "   79.  62.  38.  30.  10.   8.   0.   3.   1.   0.   0.   0.   0.   0.\n",
      "    0.   0.]\n",
      " [  0.   0.   0.   1.   1.   1.   9.  18.  30.  62.  62.  82.  91. 105.\n",
      "  106.  84.  56.  43.  30.   8.   5.   2.   1.   0.   0.   0.   0.   0.\n",
      "    0.   0.]\n",
      " [  0.   0.   0.   0.   0.   4.   6.  13.  15.  38.  50.  77. 104. 117.\n",
      "  114. 129.  88.  59.  41.  25.  18.   3.   3.   0.   0.   0.   0.   0.\n",
      "    0.   0.]\n",
      " [  0.   0.   0.   0.   1.   0.   3.   2.  13.  20.  45.  62.  99. 133.\n",
      "  131. 144. 103.  94.  62.  42.  14.   9.   2.   2.   1.   0.   0.   0.\n",
      "    0.   0.]\n",
      " [  0.   0.   0.   0.   0.   0.   0.   4.   6.  11.  24.  48.  81. 102.\n",
      "  104. 113. 110.  94.  77.  48.  28.  18.   3.   3.   1.   1.   0.   0.\n",
      "    0.   0.]\n",
      " [  0.   0.   0.   0.   0.   0.   0.   0.   5.   9.  18.  36.  49.  64.\n",
      "  102.  92. 105. 101.  90.  50.  30.  17.   6.   2.   4.   0.   0.   0.\n",
      "    0.   0.]\n",
      " [  0.   0.   0.   0.   0.   0.   0.   0.   4.   1.   8.  19.  45.  52.\n",
      "   69.  91.  80.  85.  84.  76.  50.  20.  17.   7.   0.   0.   0.   0.\n",
      "    0.   0.]\n",
      " [  0.   0.   0.   0.   0.   0.   0.   0.   2.   0.   6.  13.  18.  43.\n",
      "   46.  66.  77.  85.  74.  91.  45.  49.  16.   8.   7.   1.   1.   0.\n",
      "    0.   0.]\n",
      " [  0.   0.   0.   0.   0.   0.   0.   0.   0.   0.   1.   8.  13.  26.\n",
      "   32.  39.  57.  65.  66.  59.  51.  34.  26.   9.  11.   3.   0.   0.\n",
      "    0.   0.]\n",
      " [  0.   0.   0.   0.   0.   0.   0.   0.   0.   0.   0.   1.   2.  15.\n",
      "   15.  25.  36.  38.  52.  35.  40.  34.  17.  14.  11.   1.   1.   0.\n",
      "    0.   0.]\n",
      " [  0.   0.   0.   0.   0.   0.   0.   0.   0.   1.   1.   1.   4.   2.\n",
      "   11.  13.  15.  16.  33.  31.  28.  29.  21.  15.   8.   4.   4.   0.\n",
      "    0.   0.]\n",
      " [  0.   0.   0.   0.   0.   0.   0.   0.   0.   0.   0.   0.   0.   2.\n",
      "    1.   7.   9.  15.  20.  23.  20.  20.  19.  10.   4.   3.   0.   0.\n",
      "    1.   0.]\n",
      " [  0.   0.   0.   0.   0.   0.   0.   0.   0.   0.   0.   0.   0.   0.\n",
      "    3.   4.   5.   6.  12.  11.  10.  14.  10.   8.   6.   3.   3.   1.\n",
      "    0.   0.]\n",
      " [  0.   0.   0.   0.   0.   0.   0.   0.   0.   0.   0.   0.   0.   0.\n",
      "    2.   1.   4.   1.   3.   5.   7.   6.  13.   4.  11.   6.   1.   2.\n",
      "    1.   0.]\n",
      " [  0.   0.   0.   0.   0.   0.   0.   0.   0.   0.   0.   0.   0.   0.\n",
      "    0.   0.   0.   2.   2.   3.   4.   7.   5.   3.   3.   2.   1.   0.\n",
      "    1.   0.]\n",
      " [  0.   0.   0.   0.   0.   0.   0.   0.   0.   0.   0.   0.   0.   0.\n",
      "    0.   1.   0.   1.   2.   0.   3.   2.   2.   5.   4.   4.   1.   0.\n",
      "    0.   2.]\n",
      " [  0.   0.   0.   0.   0.   0.   0.   0.   0.   0.   0.   0.   0.   0.\n",
      "    0.   0.   0.   0.   0.   0.   1.   0.   2.   1.   0.   2.   3.   1.\n",
      "    0.   0.]\n",
      " [  0.   0.   0.   0.   0.   0.   0.   0.   0.   0.   0.   0.   0.   0.\n",
      "    0.   0.   0.   0.   1.   0.   0.   0.   0.   1.   1.   1.   0.   1.\n",
      "    0.   1.]]\n",
      "[-3.58622084 -3.3533236  -3.12042635 -2.88752911 -2.65463186 -2.42173462\n",
      " -2.18883737 -1.95594013 -1.72304288 -1.49014564 -1.2572484  -1.02435115\n",
      " -0.79145391 -0.55855666 -0.32565942 -0.09276217  0.14013507  0.37303231\n",
      "  0.60592956  0.8388268   1.07172405  1.30462129  1.53751854  1.77041578\n",
      "  2.00331302  2.23621027  2.46910751  2.70200476  2.934902    3.16779925\n",
      "  3.40069649]\n",
      "[-5.08004256 -4.73345259 -4.38686262 -4.04027265 -3.69368268 -3.3470927\n",
      " -3.00050273 -2.65391276 -2.30732279 -1.96073282 -1.61414284 -1.26755287\n",
      " -0.9209629  -0.57437293 -0.22778296  0.11880702  0.46539699  0.81198696\n",
      "  1.15857693  1.5051669   1.85175688  2.19834685  2.54493682  2.89152679\n",
      "  3.23811676  3.58470674  3.93129671  4.27788668  4.62447665  4.97106662\n",
      "  5.3176566 ]\n"
     ]
    }
   ],
   "source": [
    "print(counts)\n",
    "print(xedges)\n",
    "print(yedges)"
   ]
  },
  {
   "cell_type": "code",
   "execution_count": 10,
   "metadata": {
    "collapsed": false,
    "jupyter": {
     "outputs_hidden": false
    }
   },
   "outputs": [
    {
     "data": {
      "image/png": "[encoded data removed]",
      "text/plain": [
       "<Figure size 432x288 with 2 Axes>"
      ]
     },
     "metadata": {
      "filenames": {
       "image/png": "/Volumes/GoogleDrive/我的雲端硬碟/0. codepool_python/python_ds/mybook/_build/jupyter_execute/ch4_matplotlib/04.05-Histograms-and-Density_19_0.png"
      }
     },
     "output_type": "display_data"
    }
   ],
   "source": [
    "plt.hexbin(x, y, gridsize=30, cmap='Blues')\n",
    "cb = plt.colorbar(label='count in bin')"
   ]
  },
  {
   "cell_type": "markdown",
   "metadata": {},
   "source": [
    "### Kernel density estimation"
   ]
  },
  {
   "cell_type": "markdown",
   "metadata": {},
   "source": [
    "* 我們也可以去估計二維分配的 density，例如，我假設資料服從二維常態，然後去估計他\n",
    "* 我們可以用 `scipy.stats` 這個 module"
   ]
  },
  {
   "cell_type": "code",
   "execution_count": 11,
   "metadata": {
    "collapsed": false,
    "jupyter": {
     "outputs_hidden": false
    }
   },
   "outputs": [
    {
     "data": {
      "image/png": "[encoded data removed]",
      "text/plain": [
       "<Figure size 432x288 with 2 Axes>"
      ]
     },
     "metadata": {
      "filenames": {
       "image/png": "/Volumes/GoogleDrive/我的雲端硬碟/0. codepool_python/python_ds/mybook/_build/jupyter_execute/ch4_matplotlib/04.05-Histograms-and-Density_22_0.png"
      }
     },
     "output_type": "display_data"
    }
   ],
   "source": [
    "from scipy.stats import gaussian_kde\n",
    "\n",
    "# fit an array of size [Ndim, Nsamples]\n",
    "data = np.vstack([x, y])\n",
    "kde = gaussian_kde(data)\n",
    "\n",
    "# evaluate on a regular grid\n",
    "xgrid = np.linspace(-3.5, 3.5, 40)\n",
    "ygrid = np.linspace(-6, 6, 40)\n",
    "Xgrid, Ygrid = np.meshgrid(xgrid, ygrid)\n",
    "Z = kde.evaluate(np.vstack([Xgrid.ravel(), Ygrid.ravel()]))\n",
    "\n",
    "# Plot the result as an image\n",
    "plt.imshow(Z.reshape(Xgrid.shape),\n",
    "           origin='lower', aspect='auto',\n",
    "           extent=[-3.5, 3.5, -6, 6],\n",
    "           cmap='Blues')\n",
    "cb = plt.colorbar()\n",
    "cb.set_label(\"density\")"
   ]
  },
  {
   "cell_type": "markdown",
   "metadata": {},
   "source": [
    "* 之後在 [深入研究: 核密度估計]()的章節，會介紹 kernel density的估計方法。  \n",
    "* 後面的 [使用seaborn]()進行視覺化，也會介紹seaborn更簡潔的語法，做到更客製化的繪圖。"
   ]
  }
 ],
 "metadata": {
  "anaconda-cloud": {},
  "kernelspec": {
   "display_name": "python_ds_env",
   "language": "python",
   "name": "python_ds_env"
  },
  "language_info": {
   "codemirror_mode": {
    "name": "ipython",
    "version": 3
   },
   "file_extension": ".py",
   "mimetype": "text/x-python",
   "name": "python",
   "nbconvert_exporter": "python",
   "pygments_lexer": "ipython3",
   "version": "3.8.0"
  }
 },
 "nbformat": 4,
 "nbformat_minor": 4
}