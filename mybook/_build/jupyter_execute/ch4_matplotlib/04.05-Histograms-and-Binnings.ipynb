{
 "cells": [
  {
   "cell_type": "markdown",
   "metadata": {},
   "source": [
    "# Histograms, Binnings, and Density"
   ]
  },
  {
   "cell_type": "code",
   "execution_count": 1,
   "metadata": {},
   "outputs": [],
   "source": [
    "%matplotlib inline\n",
    "import numpy as np\n",
    "import matplotlib.pyplot as plt\n",
    "plt.style.use('seaborn-white')"
   ]
  },
  {
   "cell_type": "markdown",
   "metadata": {},
   "source": [
    "## 一維的直方圖"
   ]
  },
  {
   "cell_type": "markdown",
   "metadata": {},
   "source": [
    "* 一個簡單的直方圖，就用 `plt.hist()` 就可以完成："
   ]
  },
  {
   "cell_type": "code",
   "execution_count": 2,
   "metadata": {
    "tags": []
   },
   "outputs": [
    {
     "data": {
      "image/png": "[encoded data removed]",
      "text/plain": [
       "<Figure size 432x288 with 1 Axes>"
      ]
     },
     "metadata": {
      "filenames": {
       "image/png": "/Volumes/GoogleDrive/我的雲端硬碟/0. codepool_python/python_ds/_build/jupyter_execute/ch4_matplotlib/04.05-Histograms-and-Binnings_4_0.png"
      }
     },
     "output_type": "display_data"
    }
   ],
   "source": [
    "data = np.random.randn(1000)\n",
    "plt.hist(data);"
   ]
  },
  {
   "cell_type": "markdown",
   "metadata": {},
   "source": [
    "* 我們還有很多客製化的參數可以下："
   ]
  },
  {
   "cell_type": "code",
   "execution_count": 3,
   "metadata": {
    "collapsed": false,
    "jupyter": {
     "outputs_hidden": false
    }
   },
   "outputs": [
    {
     "data": {
      "image/png": "[encoded data removed]",
      "text/plain": [
       "<Figure size 432x288 with 1 Axes>"
      ]
     },
     "metadata": {
      "filenames": {
       "image/png": "/Volumes/GoogleDrive/我的雲端硬碟/0. codepool_python/python_ds/_build/jupyter_execute/ch4_matplotlib/04.05-Histograms-and-Binnings_6_0.png"
      }
     },
     "output_type": "display_data"
    }
   ],
   "source": [
    "plt.hist(data, \n",
    "         bins=30, \n",
    "         color='steelblue',\n",
    "         edgecolor='none',\n",
    "         histtype='stepfilled', \n",
    "         alpha=0.5);"
   ]
  },
  {
   "cell_type": "markdown",
   "metadata": {},
   "source": [
    "* 如果想得到分類後的數據就好，那可以這樣做"
   ]
  },
  {
   "cell_type": "code",
   "execution_count": 4,
   "metadata": {
    "collapsed": false,
    "jupyter": {
     "outputs_hidden": false
    }
   },
   "outputs": [
    {
     "name": "stdout",
     "output_type": "stream",
     "text": [
      "[-2.6546697  -1.52945268 -0.40423566  0.72098136  1.84619838  2.9714154 ]\n",
      "[ 55 285 406 221  33]\n"
     ]
    }
   ],
   "source": [
    "counts, bin_edges = np.histogram(data, bins=5)\n",
    "print(bin_edges) # 每個bin的起點終點\n",
    "print(counts) # 每個 bin 對應到的次數"
   ]
  },
  {
   "cell_type": "markdown",
   "metadata": {},
   "source": [
    "* 如果要同時畫多個 histogram，那就多做幾次 `plt.hist()` 就好:"
   ]
  },
  {
   "cell_type": "code",
   "execution_count": 5,
   "metadata": {
    "collapsed": false,
    "jupyter": {
     "outputs_hidden": false
    }
   },
   "outputs": [
    {
     "data": {
      "image/png": "[encoded data removed]",
      "text/plain": [
       "<Figure size 432x288 with 1 Axes>"
      ]
     },
     "metadata": {
      "filenames": {
       "image/png": "/Volumes/GoogleDrive/我的雲端硬碟/0. codepool_python/python_ds/_build/jupyter_execute/ch4_matplotlib/04.05-Histograms-and-Binnings_10_0.png"
      }
     },
     "output_type": "display_data"
    }
   ],
   "source": [
    "x1 = np.random.normal(0, 0.8, 1000)\n",
    "x2 = np.random.normal(-2, 1, 1000)\n",
    "x3 = np.random.normal(3, 2, 1000)\n",
    "\n",
    "kwargs = dict(histtype='stepfilled', alpha=0.3, bins=40)\n",
    "\n",
    "plt.hist(x1, **kwargs)\n",
    "plt.hist(x2, **kwargs)\n",
    "plt.hist(x3, **kwargs);"
   ]
  },
  {
   "cell_type": "markdown",
   "metadata": {},
   "source": [
    "## 二維的直方圖"
   ]
  },
  {
   "cell_type": "code",
   "execution_count": 6,
   "metadata": {
    "collapsed": false,
    "jupyter": {
     "outputs_hidden": false
    }
   },
   "outputs": [],
   "source": [
    "# 生出二維常態的資料\n",
    "mean = [0, 0]\n",
    "cov = [[1, 1], [1, 2]]\n",
    "x, y = np.random.multivariate_normal(mean, cov, 10000).T"
   ]
  },
  {
   "cell_type": "markdown",
   "metadata": {},
   "source": [
    "### ``plt.hist2d``: 二維直方圖"
   ]
  },
  {
   "cell_type": "markdown",
   "metadata": {},
   "source": [
    "* 剛剛一維的 histogram，是用 `plt.hist()` 來畫，現在二維的 histogram，是用 `plt.hist2d()` 來畫. "
   ]
  },
  {
   "cell_type": "code",
   "execution_count": 7,
   "metadata": {
    "collapsed": false,
    "jupyter": {
     "outputs_hidden": false
    }
   },
   "outputs": [
    {
     "data": {
      "image/png": "[encoded data removed]",
      "text/plain": [
       "<Figure size 432x288 with 2 Axes>"
      ]
     },
     "metadata": {
      "filenames": {
       "image/png": "/Volumes/GoogleDrive/我的雲端硬碟/0. codepool_python/python_ds/_build/jupyter_execute/ch4_matplotlib/04.05-Histograms-and-Binnings_15_0.png"
      }
     },
     "output_type": "display_data"
    }
   ],
   "source": [
    "plt.hist2d(x, y, bins=30, cmap='Blues')\n",
    "cb = plt.colorbar()\n",
    "cb.set_label('counts in bin')"
   ]
  },
  {
   "cell_type": "markdown",
   "metadata": {},
   "source": [
    "* 就像剛剛可以用 `np.histogram()` 來得到組別和各組的count的訊息，現在可以用 `np.histogram2d()` 來得到各組的組別(就是x和y的range)以及組別的count。作法如下："
   ]
  },
  {
   "cell_type": "code",
   "execution_count": 8,
   "metadata": {
    "collapsed": false,
    "jupyter": {
     "outputs_hidden": false
    }
   },
   "outputs": [],
   "source": [
    "counts, xedges, yedges = np.histogram2d(x, y, bins=30)"
   ]
  },
  {
   "cell_type": "code",
   "execution_count": 9,
   "metadata": {},
   "outputs": [
    {
     "name": "stdout",
     "output_type": "stream",
     "text": [
      "[[  1.   0.   0.   0.   1.   0.   0.   0.   1.   0.   0.   0.   0.   0.\n",
      "    0.   0.   0.   0.   0.   0.   0.   0.   0.   0.   0.   0.   0.   0.\n",
      "    0.   0.]\n",
      " [  0.   0.   0.   1.   1.   1.   0.   1.   0.   0.   0.   0.   0.   0.\n",
      "    0.   0.   0.   0.   0.   0.   0.   0.   0.   0.   0.   0.   0.   0.\n",
      "    0.   0.]\n",
      " [  0.   0.   0.   0.   0.   4.   1.   2.   2.   0.   5.   1.   0.   0.\n",
      "    0.   0.   0.   0.   0.   0.   0.   0.   0.   0.   0.   0.   0.   0.\n",
      "    0.   0.]\n",
      " [  0.   0.   0.   0.   2.   2.   1.   2.   4.   1.   4.   0.   1.   0.\n",
      "    0.   0.   0.   0.   0.   0.   0.   0.   0.   0.   0.   0.   0.   0.\n",
      "    0.   0.]\n",
      " [  0.   0.   0.   1.   4.   5.   7.   3.  12.   7.  10.   6.   5.   3.\n",
      "    0.   0.   0.   0.   0.   0.   0.   0.   0.   0.   0.   0.   0.   0.\n",
      "    0.   0.]\n",
      " [  0.   0.   0.   1.   1.   1.   8.   9.  10.  17.  12.  12.  12.   2.\n",
      "    0.   0.   0.   0.   1.   0.   0.   0.   0.   0.   0.   0.   0.   0.\n",
      "    0.   0.]\n",
      " [  0.   1.   0.   1.   2.   5.   9.  10.  20.  34.  24.  17.  19.  11.\n",
      "    4.   2.   1.   0.   0.   0.   0.   0.   0.   0.   0.   0.   0.   0.\n",
      "    0.   0.]\n",
      " [  0.   1.   0.   0.   0.   7.   9.  19.  27.  31.  36.  38.  25.  19.\n",
      "   13.   5.   2.   0.   0.   0.   0.   0.   0.   0.   0.   0.   0.   0.\n",
      "    0.   0.]\n",
      " [  0.   0.   0.   0.   2.   0.   3.  19.  42.  49.  50.  46.  59.  35.\n",
      "   31.  11.  10.   3.   0.   0.   0.   0.   0.   0.   0.   0.   0.   0.\n",
      "    0.   0.]\n",
      " [  0.   0.   0.   1.   3.   2.   7.  18.  30.  49.  69.  81.  63.  51.\n",
      "   48.  29.  13.   3.   1.   1.   0.   0.   0.   0.   0.   0.   0.   0.\n",
      "    0.   0.]\n",
      " [  0.   0.   0.   0.   0.   2.   4.  18.  25.  61.  54.  98. 104.  94.\n",
      "   73.  58.  32.  18.   6.   2.   1.   0.   0.   0.   0.   0.   0.   0.\n",
      "    0.   0.]\n",
      " [  0.   0.   0.   0.   1.   1.   1.   9.  22.  42.  68. 109. 113. 138.\n",
      "  118.  94.  52.  30.  16.   7.   2.   0.   1.   0.   0.   0.   0.   0.\n",
      "    0.   0.]\n",
      " [  0.   0.   0.   0.   0.   1.   2.   6.   9.  36.  52.  89. 121. 144.\n",
      "  153. 104.  82.  49.  31.   4.   1.   1.   1.   0.   0.   0.   0.   0.\n",
      "    0.   0.]\n",
      " [  0.   0.   0.   0.   0.   0.   1.   4.  10.  23.  48.  94. 136. 159.\n",
      "  147. 162.  96.  64.  48.  19.   8.   2.   2.   0.   0.   0.   0.   0.\n",
      "    0.   0.]\n",
      " [  0.   0.   0.   0.   0.   0.   0.   3.   2.  14.  27.  57.  87. 146.\n",
      "  157. 164. 134. 103.  63.  31.   9.  11.   2.   1.   0.   0.   0.   0.\n",
      "    0.   0.]\n",
      " [  0.   0.   0.   0.   0.   0.   0.   0.   3.   6.  19.  30.  56. 117.\n",
      "  138. 168. 149. 107.  90.  51.  15.   4.   5.   0.   0.   0.   0.   0.\n",
      "    0.   0.]\n",
      " [  0.   0.   0.   0.   0.   0.   0.   0.   0.   3.  10.  16.  41.  77.\n",
      "  108. 142. 127. 122.  84.  56.  26.  17.   3.   1.   1.   0.   0.   0.\n",
      "    0.   0.]\n",
      " [  0.   0.   0.   0.   0.   0.   0.   1.   2.   1.   7.  11.  27.  54.\n",
      "   60.  98. 122. 130.  81.  65.  46.  22.   8.   3.   2.   0.   0.   0.\n",
      "    0.   0.]\n",
      " [  0.   0.   0.   0.   0.   0.   0.   0.   1.   0.   5.   6.   7.  24.\n",
      "   57.  68.  66.  86.  90.  76.  32.  27.  12.   7.   1.   2.   1.   0.\n",
      "    0.   0.]\n",
      " [  0.   0.   0.   0.   0.   0.   0.   0.   0.   1.   1.   2.   4.  11.\n",
      "   27.  33.  44.  76.  70.  65.  45.  42.  15.  11.   2.   0.   0.   0.\n",
      "    0.   0.]\n",
      " [  0.   0.   0.   0.   0.   0.   0.   0.   0.   0.   0.   0.   2.   4.\n",
      "    8.  18.  34.  36.  42.  43.  37.  26.  13.   4.   4.   0.   0.   0.\n",
      "    0.   0.]\n",
      " [  0.   0.   0.   0.   0.   0.   0.   0.   0.   0.   0.   0.   0.   4.\n",
      "    2.   7.  11.  20.  17.  25.  25.  20.  17.   8.   4.   0.   0.   0.\n",
      "    0.   0.]\n",
      " [  0.   0.   0.   0.   0.   0.   0.   0.   0.   0.   0.   0.   1.   1.\n",
      "    1.   2.   5.   6.  18.  14.  14.  12.  11.   2.   2.   0.   0.   0.\n",
      "    1.   0.]\n",
      " [  0.   0.   0.   0.   0.   0.   0.   0.   0.   0.   0.   0.   0.   0.\n",
      "    0.   1.   2.   7.  10.   8.  10.  11.   5.   7.   5.   2.   0.   2.\n",
      "    0.   0.]\n",
      " [  0.   0.   0.   0.   0.   0.   0.   0.   0.   0.   0.   0.   0.   0.\n",
      "    0.   0.   0.   3.   1.   0.   4.   2.   4.   6.   3.   1.   0.   0.\n",
      "    0.   0.]\n",
      " [  0.   0.   0.   0.   0.   0.   0.   0.   0.   0.   0.   0.   0.   0.\n",
      "    0.   0.   2.   2.   1.   2.   3.   1.   2.   3.   2.   0.   0.   0.\n",
      "    0.   1.]\n",
      " [  0.   0.   0.   0.   0.   0.   0.   0.   0.   0.   0.   0.   0.   0.\n",
      "    0.   0.   0.   0.   2.   0.   1.   0.   1.   2.   2.   2.   0.   0.\n",
      "    0.   0.]\n",
      " [  0.   0.   0.   0.   0.   0.   0.   0.   0.   0.   0.   0.   0.   0.\n",
      "    0.   0.   0.   0.   0.   0.   1.   0.   0.   0.   0.   0.   0.   0.\n",
      "    0.   0.]\n",
      " [  0.   0.   0.   0.   0.   0.   0.   0.   0.   0.   0.   0.   0.   0.\n",
      "    0.   0.   0.   0.   0.   0.   0.   0.   0.   1.   0.   0.   1.   0.\n",
      "    0.   0.]\n",
      " [  0.   0.   0.   0.   0.   0.   0.   0.   0.   0.   0.   0.   0.   0.\n",
      "    0.   0.   0.   0.   0.   0.   0.   0.   0.   0.   0.   1.   0.   0.\n",
      "    0.   0.]]\n",
      "[-3.63294548 -3.37721174 -3.121478   -2.86574426 -2.61001052 -2.35427678\n",
      " -2.09854304 -1.8428093  -1.58707556 -1.33134182 -1.07560808 -0.81987433\n",
      " -0.56414059 -0.30840685 -0.05267311  0.20306063  0.45879437  0.71452811\n",
      "  0.97026185  1.22599559  1.48172933  1.73746307  1.99319681  2.24893055\n",
      "  2.50466429  2.76039803  3.01613177  3.27186551  3.52759925  3.78333299\n",
      "  4.03906673]\n",
      "[-6.0988992  -5.68848594 -5.27807269 -4.86765944 -4.45724619 -4.04683293\n",
      " -3.63641968 -3.22600643 -2.81559317 -2.40517992 -1.99476667 -1.58435342\n",
      " -1.17394016 -0.76352691 -0.35311366  0.0572996   0.46771285  0.8781261\n",
      "  1.28853935  1.69895261  2.10936586  2.51977911  2.93019236  3.34060562\n",
      "  3.75101887  4.16143212  4.57184538  4.98225863  5.39267188  5.80308513\n",
      "  6.21349839]\n"
     ]
    }
   ],
   "source": [
    "print(counts)\n",
    "print(xedges)\n",
    "print(yedges)"
   ]
  },
  {
   "cell_type": "code",
   "execution_count": 10,
   "metadata": {
    "collapsed": false,
    "jupyter": {
     "outputs_hidden": false
    }
   },
   "outputs": [
    {
     "data": {
      "image/png": "[encoded data removed]",
      "text/plain": [
       "<Figure size 432x288 with 2 Axes>"
      ]
     },
     "metadata": {
      "filenames": {
       "image/png": "/Volumes/GoogleDrive/我的雲端硬碟/0. codepool_python/python_ds/_build/jupyter_execute/ch4_matplotlib/04.05-Histograms-and-Binnings_19_0.png"
      }
     },
     "output_type": "display_data"
    }
   ],
   "source": [
    "plt.hexbin(x, y, gridsize=30, cmap='Blues')\n",
    "cb = plt.colorbar(label='count in bin')"
   ]
  },
  {
   "cell_type": "markdown",
   "metadata": {},
   "source": [
    "### Kernel density estimation"
   ]
  },
  {
   "cell_type": "markdown",
   "metadata": {},
   "source": [
    "* 我們也可以去估計二維分配的 density，例如，我假設資料服從二維常態，然後去估計他\n",
    "* 我們可以用 `scipy.stats` 這個 module"
   ]
  },
  {
   "cell_type": "code",
   "execution_count": 11,
   "metadata": {
    "collapsed": false,
    "jupyter": {
     "outputs_hidden": false
    }
   },
   "outputs": [
    {
     "data": {
      "image/png": "[encoded data removed]",
      "text/plain": [
       "<Figure size 432x288 with 2 Axes>"
      ]
     },
     "metadata": {
      "filenames": {
       "image/png": "/Volumes/GoogleDrive/我的雲端硬碟/0. codepool_python/python_ds/_build/jupyter_execute/ch4_matplotlib/04.05-Histograms-and-Binnings_22_0.png"
      }
     },
     "output_type": "display_data"
    }
   ],
   "source": [
    "from scipy.stats import gaussian_kde\n",
    "\n",
    "# fit an array of size [Ndim, Nsamples]\n",
    "data = np.vstack([x, y])\n",
    "kde = gaussian_kde(data)\n",
    "\n",
    "# evaluate on a regular grid\n",
    "xgrid = np.linspace(-3.5, 3.5, 40)\n",
    "ygrid = np.linspace(-6, 6, 40)\n",
    "Xgrid, Ygrid = np.meshgrid(xgrid, ygrid)\n",
    "Z = kde.evaluate(np.vstack([Xgrid.ravel(), Ygrid.ravel()]))\n",
    "\n",
    "# Plot the result as an image\n",
    "plt.imshow(Z.reshape(Xgrid.shape),\n",
    "           origin='lower', aspect='auto',\n",
    "           extent=[-3.5, 3.5, -6, 6],\n",
    "           cmap='Blues')\n",
    "cb = plt.colorbar()\n",
    "cb.set_label(\"density\")"
   ]
  },
  {
   "cell_type": "markdown",
   "metadata": {},
   "source": [
    "* 之後在 [深入研究: 核密度估計]()的章節，會介紹 kernel density的估計方法。  \n",
    "* 後面的 [使用seaborn]()進行視覺化，也會介紹seaborn更簡潔的語法，做到更客製化的繪圖。"
   ]
  }
 ],
 "metadata": {
  "anaconda-cloud": {},
  "kernelspec": {
   "display_name": "python_ds_env",
   "language": "python",
   "name": "python_ds_env"
  },
  "language_info": {
   "codemirror_mode": {
    "name": "ipython",
    "version": 3
   },
   "file_extension": ".py",
   "mimetype": "text/x-python",
   "name": "python",
   "nbconvert_exporter": "python",
   "pygments_lexer": "ipython3",
   "version": "3.8.0"
  }
 },
 "nbformat": 4,
 "nbformat_minor": 4
}