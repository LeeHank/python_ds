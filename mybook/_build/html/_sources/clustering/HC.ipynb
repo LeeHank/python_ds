{
 "cells": [
  {
   "cell_type": "markdown",
   "metadata": {},
   "source": [
    "# Hierarchical Clustering"
   ]
  },
  {
   "cell_type": "markdown",
   "metadata": {},
   "source": [
    "## Using correlation matrix as distance"
   ]
  },
  {
   "cell_type": "markdown",
   "metadata": {},
   "source": [
    "* 這篇 kaggle 的 notebook 非常清楚，我想要的功能他都列上了： https://www.kaggle.com/code/sgalella/correlation-heatmaps-with-hierarchical-clustering/notebook\n",
    "* 畫 dendrogem 可以看這篇：https://scikit-learn.org/stable/auto_examples/cluster/plot_agglomerative_dendrogram.html \n",
    "* sklearn 官網也可以看： https://scikit-learn.org/stable/modules/clustering.html#hierarchical-clustering"
   ]
  }
 ],
 "metadata": {
  "kernelspec": {
   "display_name": "python_ds_env",
   "language": "python",
   "name": "python_ds_env"
  },
  "language_info": {
   "codemirror_mode": {
    "name": "ipython",
    "version": 3
   },
   "file_extension": ".py",
   "mimetype": "text/x-python",
   "name": "python",
   "nbconvert_exporter": "python",
   "pygments_lexer": "ipython3",
   "version": "3.8.0"
  },
  "orig_nbformat": 4
 },
 "nbformat": 4,
 "nbformat_minor": 2
}
